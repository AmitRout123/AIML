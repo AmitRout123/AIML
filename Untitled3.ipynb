{
 "cells": [
  {
   "cell_type": "code",
   "execution_count": 1,
   "id": "3c99dcaf-ceb6-42b4-9f44-4041c8d924f7",
   "metadata": {},
   "outputs": [],
   "source": [
    "from datetime import datetime"
   ]
  },
  {
   "cell_type": "code",
   "execution_count": 3,
   "id": "b78d5466-dd7e-4d33-b4c3-6cb7972eef76",
   "metadata": {},
   "outputs": [
    {
     "name": "stdout",
     "output_type": "stream",
     "text": [
      "2024-07-04 10:33:50.683812\n"
     ]
    }
   ],
   "source": [
    "print(datetime.now())"
   ]
  },
  {
   "cell_type": "code",
   "execution_count": 9,
   "id": "3c910d93-a33f-4ed9-91a6-be4c7287d1ba",
   "metadata": {},
   "outputs": [
    {
     "name": "stdout",
     "output_type": "stream",
     "text": [
      "2024-07-04 10:36:34.175668\n"
     ]
    }
   ],
   "source": [
    "curr = datetime.now()\n",
    "print(curr)"
   ]
  },
  {
   "cell_type": "code",
   "execution_count": 11,
   "id": "0295a5c6-0528-4dfa-ae5a-716496839455",
   "metadata": {},
   "outputs": [
    {
     "data": {
      "text/plain": [
       "datetime.date(2024, 7, 4)"
      ]
     },
     "execution_count": 11,
     "metadata": {},
     "output_type": "execute_result"
    }
   ],
   "source": [
    "curr.date()"
   ]
  },
  {
   "cell_type": "code",
   "execution_count": 13,
   "id": "759db336-0d32-4977-9825-520849de031f",
   "metadata": {},
   "outputs": [
    {
     "data": {
      "text/plain": [
       "2024"
      ]
     },
     "execution_count": 13,
     "metadata": {},
     "output_type": "execute_result"
    }
   ],
   "source": [
    "curr.year"
   ]
  },
  {
   "cell_type": "code",
   "execution_count": 15,
   "id": "dd1bf7d9-2743-4217-9287-7e40e5a7a8ad",
   "metadata": {},
   "outputs": [
    {
     "data": {
      "text/plain": [
       "7"
      ]
     },
     "execution_count": 15,
     "metadata": {},
     "output_type": "execute_result"
    }
   ],
   "source": [
    "curr.month"
   ]
  },
  {
   "cell_type": "code",
   "execution_count": 25,
   "id": "bc944bb6-41d9-4f54-8f6f-a72e8331d4bd",
   "metadata": {},
   "outputs": [],
   "source": [
    "curr = datetime.now()\n",
    "dob = datetime(200,4,17,14,13)"
   ]
  },
  {
   "cell_type": "code",
   "execution_count": 29,
   "id": "790ecaac-7938-4a76-aa54-69ab1919025b",
   "metadata": {},
   "outputs": [
    {
     "name": "stdout",
     "output_type": "stream",
     "text": [
      "666280 days, 20:27:53.689412\n"
     ]
    }
   ],
   "source": [
    "days_on_earth = curr - dob\n",
    "print(days_on_earth)"
   ]
  },
  {
   "cell_type": "code",
   "execution_count": 31,
   "id": "5205e494-fa83-449b-9b8b-73a7b8d9f2ce",
   "metadata": {},
   "outputs": [
    {
     "name": "stdout",
     "output_type": "stream",
     "text": [
      "1824 days, 4:15:40.927281\n"
     ]
    }
   ],
   "source": [
    "a = days_on_earth/365.25\n",
    "print(a)"
   ]
  },
  {
   "cell_type": "code",
   "execution_count": 35,
   "id": "96e40c95-0cff-46e1-8685-5ae0955125ec",
   "metadata": {},
   "outputs": [
    {
     "data": {
      "text/plain": [
       "1824"
      ]
     },
     "execution_count": 35,
     "metadata": {},
     "output_type": "execute_result"
    }
   ],
   "source": [
    "a.days"
   ]
  },
  {
   "cell_type": "code",
   "execution_count": 44,
   "id": "b87b8f29-57e8-4d2e-a690-0922d8bd5fe9",
   "metadata": {},
   "outputs": [
    {
     "name": "stdout",
     "output_type": "stream",
     "text": [
      "Requirement already satisfied: pywhatkit in c:\\users\\dell\\anaconda3\\lib\\site-packages (5.4)\n",
      "Requirement already satisfied: Pillow in c:\\users\\dell\\anaconda3\\lib\\site-packages (from pywhatkit) (10.3.0)\n",
      "Requirement already satisfied: pyautogui in c:\\users\\dell\\anaconda3\\lib\\site-packages (from pywhatkit) (0.9.54)\n",
      "Requirement already satisfied: requests in c:\\users\\dell\\anaconda3\\lib\\site-packages (from pywhatkit) (2.32.2)\n",
      "Requirement already satisfied: wikipedia in c:\\users\\dell\\anaconda3\\lib\\site-packages (from pywhatkit) (1.4.0)\n",
      "Requirement already satisfied: Flask in c:\\users\\dell\\anaconda3\\lib\\site-packages (from pywhatkit) (3.0.3)\n",
      "Requirement already satisfied: Werkzeug>=3.0.0 in c:\\users\\dell\\anaconda3\\lib\\site-packages (from Flask->pywhatkit) (3.0.3)\n",
      "Requirement already satisfied: Jinja2>=3.1.2 in c:\\users\\dell\\anaconda3\\lib\\site-packages (from Flask->pywhatkit) (3.1.4)\n",
      "Requirement already satisfied: itsdangerous>=2.1.2 in c:\\users\\dell\\anaconda3\\lib\\site-packages (from Flask->pywhatkit) (2.2.0)\n",
      "Requirement already satisfied: click>=8.1.3 in c:\\users\\dell\\anaconda3\\lib\\site-packages (from Flask->pywhatkit) (8.1.7)\n",
      "Requirement already satisfied: blinker>=1.6.2 in c:\\users\\dell\\anaconda3\\lib\\site-packages (from Flask->pywhatkit) (1.6.2)\n",
      "Requirement already satisfied: pymsgbox in c:\\users\\dell\\anaconda3\\lib\\site-packages (from pyautogui->pywhatkit) (1.0.9)\n",
      "Requirement already satisfied: pytweening>=1.0.4 in c:\\users\\dell\\anaconda3\\lib\\site-packages (from pyautogui->pywhatkit) (1.2.0)\n",
      "Requirement already satisfied: pyscreeze>=0.1.21 in c:\\users\\dell\\anaconda3\\lib\\site-packages (from pyautogui->pywhatkit) (0.1.30)\n",
      "Requirement already satisfied: pygetwindow>=0.0.5 in c:\\users\\dell\\anaconda3\\lib\\site-packages (from pyautogui->pywhatkit) (0.0.9)\n",
      "Requirement already satisfied: mouseinfo in c:\\users\\dell\\anaconda3\\lib\\site-packages (from pyautogui->pywhatkit) (0.1.3)\n",
      "Requirement already satisfied: charset-normalizer<4,>=2 in c:\\users\\dell\\anaconda3\\lib\\site-packages (from requests->pywhatkit) (2.0.4)\n",
      "Requirement already satisfied: idna<4,>=2.5 in c:\\users\\dell\\anaconda3\\lib\\site-packages (from requests->pywhatkit) (3.7)\n",
      "Requirement already satisfied: urllib3<3,>=1.21.1 in c:\\users\\dell\\anaconda3\\lib\\site-packages (from requests->pywhatkit) (2.2.2)\n",
      "Requirement already satisfied: certifi>=2017.4.17 in c:\\users\\dell\\anaconda3\\lib\\site-packages (from requests->pywhatkit) (2024.6.2)\n",
      "Requirement already satisfied: beautifulsoup4 in c:\\users\\dell\\anaconda3\\lib\\site-packages (from wikipedia->pywhatkit) (4.12.3)\n",
      "Requirement already satisfied: colorama in c:\\users\\dell\\anaconda3\\lib\\site-packages (from click>=8.1.3->Flask->pywhatkit) (0.4.6)\n",
      "Requirement already satisfied: MarkupSafe>=2.0 in c:\\users\\dell\\anaconda3\\lib\\site-packages (from Jinja2>=3.1.2->Flask->pywhatkit) (2.1.3)\n",
      "Requirement already satisfied: pyrect in c:\\users\\dell\\anaconda3\\lib\\site-packages (from pygetwindow>=0.0.5->pyautogui->pywhatkit) (0.2.0)\n",
      "Requirement already satisfied: soupsieve>1.2 in c:\\users\\dell\\anaconda3\\lib\\site-packages (from beautifulsoup4->wikipedia->pywhatkit) (2.5)\n",
      "Requirement already satisfied: pyperclip in c:\\users\\dell\\anaconda3\\lib\\site-packages (from mouseinfo->pyautogui->pywhatkit) (1.9.0)\n"
     ]
    }
   ],
   "source": [
    "#pywhatkit\n",
    "!pip install pywhatkit\n"
   ]
  },
  {
   "cell_type": "code",
   "execution_count": null,
   "id": "e9e98a09-cc9d-4650-b974-9e3cde4c6b66",
   "metadata": {},
   "outputs": [],
   "source": []
  },
  {
   "cell_type": "code",
   "execution_count": 45,
   "id": "f762950a-fb91-4006-9ef6-6611f605ea07",
   "metadata": {},
   "outputs": [],
   "source": [
    "import pywhatkit as kit"
   ]
  },
  {
   "cell_type": "code",
   "execution_count": 48,
   "id": "964b1215-9dba-45b1-b070-76aed64b716e",
   "metadata": {},
   "outputs": [
    {
     "data": {
      "text/plain": [
       "'https://www.youtube.com/watch?v=0xlEchIeE7w\\\\\\\\u0026pp=ygUMbmluamEgaGF0b3Jp'"
      ]
     },
     "execution_count": 48,
     "metadata": {},
     "output_type": "execute_result"
    }
   ],
   "source": [
    "#to play a video on youtube\n",
    "kit.playonyt('ninja hatori')"
   ]
  },
  {
   "cell_type": "code",
   "execution_count": 51,
   "id": "9e56e9ee-2a9f-40a9-8bac-103315b4b6cc",
   "metadata": {},
   "outputs": [
    {
     "data": {
      "text/plain": [
       "'https://www.youtube.com/watch?v=z1qze6VEnRs\\\\\\\\u0026pp=YAHIAQHwAQG6AwIYAugFAaIGFQEBMtwSxCteant5j7OgSVb8G2icSw%3D%3D'"
      ]
     },
     "execution_count": 51,
     "metadata": {},
     "output_type": "execute_result"
    }
   ],
   "source": [
    "kit.playonyt('black mamba')"
   ]
  },
  {
   "cell_type": "code",
   "execution_count": 53,
   "id": "5b734dd4-d029-4d4a-acc2-0df5d41a044c",
   "metadata": {},
   "outputs": [
    {
     "data": {
      "text/plain": [
       "'https://www.youtube.com/watch?v=gzf7zkOVXmg\\\\\\\\u0026pp=ygUIa2sgc29uZ3M%3D'"
      ]
     },
     "execution_count": 53,
     "metadata": {},
     "output_type": "execute_result"
    }
   ],
   "source": [
    "kit.playonyt('kk songs')"
   ]
  },
  {
   "cell_type": "code",
   "execution_count": 55,
   "id": "b25ed5d9-5e12-4d75-b690-6657e2395bfd",
   "metadata": {},
   "outputs": [],
   "source": [
    "kit.search('Python')"
   ]
  },
  {
   "cell_type": "code",
   "execution_count": 57,
   "id": "0df8b055-345b-4285-80bc-7ac9487cbbb4",
   "metadata": {},
   "outputs": [
    {
     "name": "stdout",
     "output_type": "stream",
     "text": [
      "The Burari deaths were a ritual mass suicide of eleven family members of the Chundawat family from Burari, Delhi, India, in 2018. Ten people were found hanged, while the oldest family member, the grandmother, was strangled. The bodies were found on 1 July 2018, in the early morning after the death.\n"
     ]
    }
   ],
   "source": [
    "#to get a short info about any data\n",
    "kit.info('burari case')"
   ]
  },
  {
   "cell_type": "code",
   "execution_count": 73,
   "id": "f11b69d4-3d02-41aa-93b5-69b477547431",
   "metadata": {},
   "outputs": [
    {
     "data": {
      "text/plain": [
       "'******************************************************************!*************\\n********************************************************************************\\n*************************************************************************!!!****\\n********************************************************************************\\n*********************************%%%%%******************************************\\n*******************************%%%%%%%%%***************************!*****!******\\n******************************%%%$@@$%%%%***************!*!*****************!***\\n****************************!*%%%%$@@$%%*******!****!!*************!*******!****\\n********************************%%%$%%%***!!!!!!*****!!!****!!****!*************\\n********************************%%%%%%*****!!!!!***!!!!!!!!*******!*************\\n******************************%%%%%%$%%****!!!!!!*!!!!!*!*!!****!!**************\\n******************************%%%%*%%$%%****!!!!**!!!!!!!**!!!***!**************\\n*******************************%%*%%%%%%****!!!!**!!!!!!!!!*******!*************\\n*****************************%*****%%%%*****!!!***!**!!*!!!!****!***************\\n***********************************%%%%*********!***!!!!!!**********************\\n*****************************************************!!!!*****!*******!*********\\n*****************************************************!!!!!!**********!!***!!****\\n*******************************************!*********!*!****!!****!***!*********\\n****************************!************!!**!*****!!!!!!**!!*********!*******!!\\n*******************!******!!!!!********!!!!!!!!***!!!!!!!!*!!!!*****!!!*********\\n******************!!!!!*!!!!!!!!!!!!!!!!!!!!!!!!!*!!!!!!*!!!!!!!!***!*******!!!!\\n******************!!!!!!!!!!!!!!!!!!!!!!!!!!!!!!!!!!!!!!!!!!!!!!!!!!!!!****!**!*\\n******!**********!*!!!!!!!!!!!!!!!!!!!!!!!!!!!!!!!!!!!!!!!!!!!!!!!!!!!*!**!!*!!!\\n*!******!!!!!*!****!!!!!!!!!!!!!!!!!!!!!!!!!!!!!!!!!!!!!!!!!!!!!!!!!!!!!**!!!!!!\\n!!!**!!*!!!!!!!!!**!!!!!!!!!!!!!!!!!!!!!!!!!!!!!!!!!!!!!!!!!!!!!!!!!!!!!!!!!!!!!\\n!!!!!!!!!!!!!!!!!!!!!!!!!!!!!!!!!!!!!!!!!!!!!!!!!!!!!!!!!!!!!!!!!!!!!!!!!!!!!!!!\\n!!!!!!!!!!!!!!!!!!!!!!!!!!!!!!!!!!!!!!!!!!!!!!!!!!!!!!!!!!!!!!!!!!!!!!!!!!!!!!!!\\n!!!!!!!!!!!!!!!!!!!!!!!!!!!!!!!!!!!!!!!!!!!!!!!!!!!!!!!!!!!!!!!!!!!!!!!!!!!!!!!!\\n!!!!!!!!!!!!!!!!!!!!!!!!!!!!!!!!!!!!!!!!!!!!!!!!!!!!!!!!!!!!!!!!!!!!!!!!!!!!!!!!\\n!!!!!!!!!!!!!!!!!!!!!!!!!!!!!!!!!!!!!!!!!!!!!!!!!!!!!!!!!!!!!!!!!!!!!!!!!!!!!!!!'"
      ]
     },
     "execution_count": 73,
     "metadata": {},
     "output_type": "execute_result"
    }
   ],
   "source": [
    "#image to asciiart\n",
    "kit.image_to_ascii_art(r\"C:\\Users\\dell\\Downloads\\THUMB IMPRESSION.jpeg\",r\"C:\\Users\\dell\\Downloads\\THUMB IMPRESSION.txt\")"
   ]
  },
  {
   "cell_type": "code",
   "execution_count": null,
   "id": "660b4cea-f87b-43f1-aa17-e415b71ca9a5",
   "metadata": {},
   "outputs": [],
   "source": []
  }
 ],
 "metadata": {
  "kernelspec": {
   "display_name": "Python 3 (ipykernel)",
   "language": "python",
   "name": "python3"
  },
  "language_info": {
   "codemirror_mode": {
    "name": "ipython",
    "version": 3
   },
   "file_extension": ".py",
   "mimetype": "text/x-python",
   "name": "python",
   "nbconvert_exporter": "python",
   "pygments_lexer": "ipython3",
   "version": "3.12.4"
  }
 },
 "nbformat": 4,
 "nbformat_minor": 5
}
