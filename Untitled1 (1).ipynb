{
 "cells": [
  {
   "cell_type": "code",
   "execution_count": 119,
   "id": "9e79d88c-2511-4a42-9383-0b6e0a0ad5ec",
   "metadata": {},
   "outputs": [
    {
     "name": "stdout",
     "output_type": "stream",
     "text": [
      "(20, 5.7, 'dog', False)\n"
     ]
    }
   ],
   "source": [
    "#TUPLE\n",
    "\n",
    "t=(20,5.7,'dog',False)\n",
    "print(t)"
   ]
  },
  {
   "cell_type": "code",
   "execution_count": 121,
   "id": "89cbf58a-d208-49b0-9e31-44ae7fc21af4",
   "metadata": {},
   "outputs": [
    {
     "data": {
      "text/plain": [
       "tuple"
      ]
     },
     "execution_count": 121,
     "metadata": {},
     "output_type": "execute_result"
    }
   ],
   "source": [
    "type(t)"
   ]
  },
  {
   "cell_type": "code",
   "execution_count": 123,
   "id": "3df0e3ba-3a55-4043-ba1b-a8b0f10fc924",
   "metadata": {},
   "outputs": [
    {
     "data": {
      "text/plain": [
       "False"
      ]
     },
     "execution_count": 123,
     "metadata": {},
     "output_type": "execute_result"
    }
   ],
   "source": [
    "t[3]"
   ]
  },
  {
   "cell_type": "code",
   "execution_count": 125,
   "id": "87043635-03b3-4bda-aee7-ad5d3584f66e",
   "metadata": {},
   "outputs": [
    {
     "data": {
      "text/plain": [
       "(20, 5.7, 'dog', False)"
      ]
     },
     "execution_count": 125,
     "metadata": {},
     "output_type": "execute_result"
    }
   ],
   "source": [
    "t[::]"
   ]
  },
  {
   "cell_type": "code",
   "execution_count": 127,
   "id": "7e5ef867-48ed-4193-a0fd-9fa0f43407ce",
   "metadata": {},
   "outputs": [
    {
     "data": {
      "text/plain": [
       "(False, 'dog', 5.7, 20)"
      ]
     },
     "execution_count": 127,
     "metadata": {},
     "output_type": "execute_result"
    }
   ],
   "source": [
    "t[::-1]"
   ]
  },
  {
   "cell_type": "code",
   "execution_count": 129,
   "id": "4934bba4-be13-4349-ad76-967cd72e262e",
   "metadata": {},
   "outputs": [
    {
     "data": {
      "text/plain": [
       "(20, 3.5, 'cat', [1, 2, 3], True)"
      ]
     },
     "execution_count": 129,
     "metadata": {},
     "output_type": "execute_result"
    }
   ],
   "source": [
    "a=(20,3.5,'cat',[1,2,3],True)\n",
    "a"
   ]
  },
  {
   "cell_type": "code",
   "execution_count": 131,
   "id": "2e029ad1-3e74-4812-aebf-963abf06cfc0",
   "metadata": {},
   "outputs": [
    {
     "data": {
      "text/plain": [
       "[1, 2, 3]"
      ]
     },
     "execution_count": 131,
     "metadata": {},
     "output_type": "execute_result"
    }
   ],
   "source": [
    "a[3]"
   ]
  },
  {
   "cell_type": "code",
   "execution_count": 133,
   "id": "fb4e8c8c-631b-49c5-9491-08a78bcb87c0",
   "metadata": {},
   "outputs": [
    {
     "data": {
      "text/plain": [
       "list"
      ]
     },
     "execution_count": 133,
     "metadata": {},
     "output_type": "execute_result"
    }
   ],
   "source": [
    "type(a[3])"
   ]
  },
  {
   "cell_type": "code",
   "execution_count": 135,
   "id": "7ca5dda0-66eb-4760-9eb9-1b2d7d56f20b",
   "metadata": {},
   "outputs": [
    {
     "name": "stdout",
     "output_type": "stream",
     "text": [
      "(20, 3.5, 'cat', [1, 2, 3], True)\n",
      "(20, 3.5, 'cat', [1, 2, 3, 4], True)\n"
     ]
    }
   ],
   "source": [
    "print(a)\n",
    "a[3].append(4)\n",
    "print(a)"
   ]
  },
  {
   "cell_type": "code",
   "execution_count": 137,
   "id": "b0ea206d-6070-4d37-8e6a-2e4ea5d66b19",
   "metadata": {},
   "outputs": [
    {
     "data": {
      "text/plain": [
       "1"
      ]
     },
     "execution_count": 137,
     "metadata": {},
     "output_type": "execute_result"
    }
   ],
   "source": [
    "t.count('dog')"
   ]
  },
  {
   "cell_type": "code",
   "execution_count": 138,
   "id": "a79ecc4c-5dca-43d4-9be2-ec8e9c8780bf",
   "metadata": {},
   "outputs": [
    {
     "data": {
      "text/plain": [
       "3"
      ]
     },
     "execution_count": 138,
     "metadata": {},
     "output_type": "execute_result"
    }
   ],
   "source": [
    "t.index(False)"
   ]
  },
  {
   "cell_type": "code",
   "execution_count": 139,
   "id": "a7cb8d53-645c-4832-8982-74e7fb505808",
   "metadata": {},
   "outputs": [
    {
     "name": "stdout",
     "output_type": "stream",
     "text": [
      "{2.5, 67, 'sky', 'Tree', 30}\n"
     ]
    }
   ],
   "source": [
    "#SET\n",
    "\n",
    "s={'Tree',30,67,2.5,'sky'}\n",
    "print(s)"
   ]
  },
  {
   "cell_type": "code",
   "execution_count": 140,
   "id": "58e85ff8-4314-4173-8880-d833de9d1e1b",
   "metadata": {},
   "outputs": [
    {
     "data": {
      "text/plain": [
       "set"
      ]
     },
     "execution_count": 140,
     "metadata": {},
     "output_type": "execute_result"
    }
   ],
   "source": [
    "type(s)"
   ]
  },
  {
   "cell_type": "code",
   "execution_count": 143,
   "id": "591f8d79-8cb9-45a1-a86d-a5dd02232c2e",
   "metadata": {},
   "outputs": [
    {
     "name": "stdout",
     "output_type": "stream",
     "text": [
      "{1, 3, 4, 7, 8}\n"
     ]
    }
   ],
   "source": [
    "a={1,1,1,4,4,4,7,8,8,8,4,3,3,3,3}\n",
    "print(a)"
   ]
  },
  {
   "cell_type": "code",
   "execution_count": 147,
   "id": "a7caf855-7188-4208-b927-4e925d88ef9a",
   "metadata": {},
   "outputs": [
    {
     "data": {
      "text/plain": [
       "{2.5, 30, 67, 'Tree', 'sky'}"
      ]
     },
     "execution_count": 147,
     "metadata": {},
     "output_type": "execute_result"
    }
   ],
   "source": [
    "s"
   ]
  },
  {
   "cell_type": "code",
   "execution_count": 149,
   "id": "ebbf35d7-4139-45a4-b276-404fdb28238b",
   "metadata": {},
   "outputs": [
    {
     "name": "stdout",
     "output_type": "stream",
     "text": [
      "{2.5, 67, 'sky', 'Tree', 30}\n",
      "{2.5, 67, 'sky', 100, 'Tree', 30}\n"
     ]
    }
   ],
   "source": [
    "print(s)\n",
    "s.add(100)\n",
    "print(s)"
   ]
  },
  {
   "cell_type": "code",
   "execution_count": 151,
   "id": "3561087f-c802-4d55-af4f-37d509ce2a2c",
   "metadata": {},
   "outputs": [
    {
     "name": "stdout",
     "output_type": "stream",
     "text": [
      "{1, 2, 3, 5, 6, 9}\n",
      "{9, 3, 4}\n"
     ]
    }
   ],
   "source": [
    "a={1,3,5,6,2,9}\n",
    "b={3,4,9}\n",
    "print(a)\n",
    "print(b)"
   ]
  },
  {
   "cell_type": "code",
   "execution_count": 152,
   "id": "a3261e3e-e4d1-4197-bb6a-985363be5ac6",
   "metadata": {},
   "outputs": [
    {
     "data": {
      "text/plain": [
       "{1, 2, 3, 4, 5, 6, 9}"
      ]
     },
     "execution_count": 152,
     "metadata": {},
     "output_type": "execute_result"
    }
   ],
   "source": [
    "a.union(b)"
   ]
  },
  {
   "cell_type": "code",
   "execution_count": 155,
   "id": "6ca22dde-ba01-4de0-adc8-b59c52cd7529",
   "metadata": {},
   "outputs": [
    {
     "data": {
      "text/plain": [
       "{3, 9}"
      ]
     },
     "execution_count": 155,
     "metadata": {},
     "output_type": "execute_result"
    }
   ],
   "source": [
    "a.intersection(b)"
   ]
  },
  {
   "cell_type": "code",
   "execution_count": 157,
   "id": "d7ccd9fa-ce32-4303-a7d5-da7c453c03af",
   "metadata": {},
   "outputs": [
    {
     "data": {
      "text/plain": [
       "{1, 2, 5, 6}"
      ]
     },
     "execution_count": 157,
     "metadata": {},
     "output_type": "execute_result"
    }
   ],
   "source": [
    "a.difference(b)"
   ]
  },
  {
   "cell_type": "code",
   "execution_count": 159,
   "id": "bdaf6dec-1e8f-4e29-840c-d0aeb05af10d",
   "metadata": {},
   "outputs": [
    {
     "data": {
      "text/plain": [
       "{4}"
      ]
     },
     "execution_count": 159,
     "metadata": {},
     "output_type": "execute_result"
    }
   ],
   "source": [
    "b.difference(a)"
   ]
  },
  {
   "cell_type": "code",
   "execution_count": 161,
   "id": "04551199-f84b-4e39-8c96-cacf5011ff84",
   "metadata": {},
   "outputs": [
    {
     "data": {
      "text/plain": [
       "False"
      ]
     },
     "execution_count": 161,
     "metadata": {},
     "output_type": "execute_result"
    }
   ],
   "source": [
    "a.issuperset(b)"
   ]
  },
  {
   "cell_type": "code",
   "execution_count": null,
   "id": "0d8716b9-401c-4cbe-bc33-a2001186c8f5",
   "metadata": {},
   "outputs": [],
   "source": []
  },
  {
   "cell_type": "code",
   "execution_count": 164,
   "id": "b741f2ab-0b4e-47cf-956a-fc44d3029d7d",
   "metadata": {},
   "outputs": [
    {
     "data": {
      "text/plain": [
       "False"
      ]
     },
     "execution_count": 164,
     "metadata": {},
     "output_type": "execute_result"
    }
   ],
   "source": [
    "b.issubset(a)"
   ]
  },
  {
   "cell_type": "code",
   "execution_count": 166,
   "id": "820dda56-6c7b-46c1-a17b-b3b5db765b67",
   "metadata": {},
   "outputs": [
    {
     "data": {
      "text/plain": [
       "False"
      ]
     },
     "execution_count": 166,
     "metadata": {},
     "output_type": "execute_result"
    }
   ],
   "source": [
    "a.isdisjoint(b)"
   ]
  },
  {
   "cell_type": "code",
   "execution_count": 168,
   "id": "5cf1332f-cdfe-42d9-81a6-123c9af05805",
   "metadata": {},
   "outputs": [
    {
     "data": {
      "text/plain": [
       "{100, 2.5, 30, 67, 'Tree', 'sky'}"
      ]
     },
     "execution_count": 168,
     "metadata": {},
     "output_type": "execute_result"
    }
   ],
   "source": [
    "s\n"
   ]
  },
  {
   "cell_type": "code",
   "execution_count": 170,
   "id": "3d77b7cc-0c78-4eb6-bef0-5850f12b12bb",
   "metadata": {},
   "outputs": [
    {
     "name": "stdout",
     "output_type": "stream",
     "text": [
      "{2.5, 67, 'sky', 100, 'Tree', 30}\n",
      "{67, 'sky', 100, 'Tree', 30}\n"
     ]
    }
   ],
   "source": [
    "#pop\n",
    "print(s)\n",
    "s.pop()\n",
    "print(s)"
   ]
  },
  {
   "cell_type": "code",
   "execution_count": 172,
   "id": "15302fb8-2beb-4546-a81b-36adea32afcb",
   "metadata": {},
   "outputs": [
    {
     "name": "stdout",
     "output_type": "stream",
     "text": [
      "{67, 'sky', 100, 'Tree', 30}\n",
      "{67, 'sky', 100, 'Tree'}\n"
     ]
    }
   ],
   "source": [
    "#remove\n",
    "print(s)\n",
    "s.remove(30)\n",
    "print(s)"
   ]
  },
  {
   "cell_type": "code",
   "execution_count": 173,
   "id": "f3f4f355-8994-4c1b-bcab-1e7f26925ada",
   "metadata": {},
   "outputs": [
    {
     "name": "stdout",
     "output_type": "stream",
     "text": [
      "{67, 'sky', 100, 'Tree'}\n",
      "set()\n"
     ]
    }
   ],
   "source": [
    "#clear\n",
    "print(s)\n",
    "s.clear()\n",
    "print(s)"
   ]
  },
  {
   "cell_type": "code",
   "execution_count": 174,
   "id": "d13598a1-aaf7-4873-a134-9b70ed329885",
   "metadata": {},
   "outputs": [
    {
     "name": "stdout",
     "output_type": "stream",
     "text": [
      "{'Name': 'Sunny', 'Roll': 25, 'Course': 'AIML'}\n"
     ]
    }
   ],
   "source": [
    "#dictionary\n",
    "d={'Name':'Sunny','Roll':25,'Course':'AIML'}\n",
    "print(d)"
   ]
  },
  {
   "cell_type": "code",
   "execution_count": 175,
   "id": "82f2c434-b1ee-4274-ab5e-2425feb4f466",
   "metadata": {},
   "outputs": [
    {
     "data": {
      "text/plain": [
       "dict"
      ]
     },
     "execution_count": 175,
     "metadata": {},
     "output_type": "execute_result"
    }
   ],
   "source": [
    "type(d)"
   ]
  },
  {
   "cell_type": "code",
   "execution_count": 176,
   "id": "49327765-3232-40b2-8ea7-d3feb5e0ddbb",
   "metadata": {},
   "outputs": [
    {
     "name": "stdout",
     "output_type": "stream",
     "text": [
      "{'Name': 'Sunny', 'Roll': 25, 'Course': 'AIML'}\n",
      "{'Name': 'Sunny', 'Roll': 25, 'Course': 'AIML', 'Marks': 99.9}\n"
     ]
    }
   ],
   "source": [
    "print(d)\n",
    "d.update({'Marks':99.9})\n",
    "print(d)"
   ]
  },
  {
   "cell_type": "code",
   "execution_count": 182,
   "id": "a42075b5-c0e8-4a37-8e42-0b741332caca",
   "metadata": {},
   "outputs": [
    {
     "name": "stdout",
     "output_type": "stream",
     "text": [
      "{'Name': 'Sunny', 'Roll': 25, 'Course': 'AIML', 'Marks': 99.9}\n",
      "{'Name': 'Sunny', 'Roll': 25, 'Course': 'Python', 'Marks': 99.9}\n"
     ]
    }
   ],
   "source": [
    "print(d)\n",
    "d.update({'Course':'Python'})\n",
    "print(d)"
   ]
  },
  {
   "cell_type": "code",
   "execution_count": 183,
   "id": "f9e45668-bedb-4ec3-900a-1a72545c3eb7",
   "metadata": {},
   "outputs": [
    {
     "data": {
      "text/plain": [
       "dict_keys(['Name', 'Roll', 'Course', 'Marks'])"
      ]
     },
     "execution_count": 183,
     "metadata": {},
     "output_type": "execute_result"
    }
   ],
   "source": [
    "d.keys()\n"
   ]
  },
  {
   "cell_type": "code",
   "execution_count": 186,
   "id": "e9233a15-bf76-4e6b-abf3-0d945857622f",
   "metadata": {},
   "outputs": [
    {
     "data": {
      "text/plain": [
       "dict_values(['Sunny', 25, 'Python', 99.9])"
      ]
     },
     "execution_count": 186,
     "metadata": {},
     "output_type": "execute_result"
    }
   ],
   "source": [
    "d.values()"
   ]
  },
  {
   "cell_type": "code",
   "execution_count": 188,
   "id": "a61ee009-fed2-4035-9882-404d9058921a",
   "metadata": {},
   "outputs": [
    {
     "data": {
      "text/plain": [
       "dict_items([('Name', 'Sunny'), ('Roll', 25), ('Course', 'Python'), ('Marks', 99.9)])"
      ]
     },
     "execution_count": 188,
     "metadata": {},
     "output_type": "execute_result"
    }
   ],
   "source": [
    "d.items()"
   ]
  },
  {
   "cell_type": "code",
   "execution_count": 190,
   "id": "1d5ee500-150e-41ab-bc54-474016ced1eb",
   "metadata": {},
   "outputs": [
    {
     "data": {
      "text/plain": [
       "'Sunny'"
      ]
     },
     "execution_count": 190,
     "metadata": {},
     "output_type": "execute_result"
    }
   ],
   "source": [
    "d.get('Name')"
   ]
  },
  {
   "cell_type": "code",
   "execution_count": 191,
   "id": "76d8d63f-d6b2-4345-bfe3-6739a2ae31aa",
   "metadata": {},
   "outputs": [
    {
     "data": {
      "text/plain": [
       "25"
      ]
     },
     "execution_count": 191,
     "metadata": {},
     "output_type": "execute_result"
    }
   ],
   "source": [
    "d.get('Roll')"
   ]
  },
  {
   "cell_type": "code",
   "execution_count": 192,
   "id": "a06949aa-9051-43c7-875d-25b6c18d9aed",
   "metadata": {},
   "outputs": [
    {
     "name": "stdout",
     "output_type": "stream",
     "text": [
      "{'Name': 'Sunny', 'Roll': 25, 'Course': 'Python', 'Marks': 99.9}\n",
      "{'Name': 'Sunny', 'Roll': 25, 'Course': 'Python'}\n"
     ]
    }
   ],
   "source": [
    "print(d)\n",
    "d.popitem()\n",
    "print(d)"
   ]
  },
  {
   "cell_type": "code",
   "execution_count": 194,
   "id": "f53e2189-2c72-4020-8753-6923f3c0c253",
   "metadata": {},
   "outputs": [
    {
     "name": "stdout",
     "output_type": "stream",
     "text": [
      "{'Name': 'Sunny', 'Roll': 25, 'Course': 'Python'}\n",
      "Roll\n",
      "{'Name': 'Sunny', 'Roll': 25, 'Course': 'Python'}\n"
     ]
    }
   ],
   "source": [
    "print(d)\n",
    "print('Roll')\n",
    "print(d)"
   ]
  },
  {
   "cell_type": "code",
   "execution_count": 198,
   "id": "f8425e3a-8b13-4396-96cf-69c87cc348e4",
   "metadata": {},
   "outputs": [
    {
     "name": "stdout",
     "output_type": "stream",
     "text": [
      "{'Name': 'Sunny', 'Roll': 25, 'Course': 'Python'}\n",
      "{'Name': 'Sunny', 'Course': 'Python'}\n"
     ]
    }
   ],
   "source": [
    "print(d)\n",
    "d.pop('Roll')\n",
    "print(d)"
   ]
  },
  {
   "cell_type": "code",
   "execution_count": 200,
   "id": "e7f24ac7-c465-4b39-932c-4aeab0971cf6",
   "metadata": {},
   "outputs": [
    {
     "name": "stdout",
     "output_type": "stream",
     "text": [
      "{'Name': 'Sunny', 'Course': 'Python'}\n",
      "{}\n"
     ]
    }
   ],
   "source": [
    "print(d)\n",
    "d.clear()\n",
    "print(d)"
   ]
  },
  {
   "cell_type": "code",
   "execution_count": null,
   "id": "fad248e4-13b6-420c-9cec-5aa718ac1eb1",
   "metadata": {},
   "outputs": [],
   "source": []
  },
  {
   "cell_type": "code",
   "execution_count": null,
   "id": "d06800d9-5e80-4462-afd2-3fb412e28d68",
   "metadata": {},
   "outputs": [],
   "source": []
  },
  {
   "cell_type": "code",
   "execution_count": null,
   "id": "32328cd0-8670-4fad-9252-47dea906fa87",
   "metadata": {},
   "outputs": [],
   "source": []
  },
  {
   "cell_type": "code",
   "execution_count": null,
   "id": "ba4866c1-f9d2-4715-8425-69ead63e61c9",
   "metadata": {},
   "outputs": [],
   "source": []
  }
 ],
 "metadata": {
  "kernelspec": {
   "display_name": "Python 3 (ipykernel)",
   "language": "python",
   "name": "python3"
  },
  "language_info": {
   "codemirror_mode": {
    "name": "ipython",
    "version": 3
   },
   "file_extension": ".py",
   "mimetype": "text/x-python",
   "name": "python",
   "nbconvert_exporter": "python",
   "pygments_lexer": "ipython3",
   "version": "3.12.4"
  }
 },
 "nbformat": 4,
 "nbformat_minor": 5
}
