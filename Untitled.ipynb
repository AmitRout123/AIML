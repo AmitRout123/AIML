{
 "cells": [
  {
   "cell_type": "code",
   "execution_count": 1,
   "id": "96f4cc99-7cfd-47c7-acbc-391f9ac4bad8",
   "metadata": {},
   "outputs": [
    {
     "name": "stdout",
     "output_type": "stream",
     "text": [
      "Hello World\n"
     ]
    }
   ],
   "source": [
    "print('Hello World')"
   ]
  },
  {
   "cell_type": "code",
   "execution_count": 3,
   "id": "d51bbd62-8f3f-4b8a-bca1-f69bcdd000fe",
   "metadata": {},
   "outputs": [
    {
     "name": "stdout",
     "output_type": "stream",
     "text": [
      "Amit\n"
     ]
    }
   ],
   "source": [
    "print('Amit')"
   ]
  },
  {
   "cell_type": "code",
   "execution_count": 5,
   "id": "9e606ddd-e966-48b8-b3c0-759ac7362f20",
   "metadata": {},
   "outputs": [
    {
     "name": "stdout",
     "output_type": "stream",
     "text": [
      "\n",
      "Here is a list of the Python keywords.  Enter any keyword to get more help.\n",
      "\n",
      "False               class               from                or\n",
      "None                continue            global              pass\n",
      "True                def                 if                  raise\n",
      "and                 del                 import              return\n",
      "as                  elif                in                  try\n",
      "assert              else                is                  while\n",
      "async               except              lambda              with\n",
      "await               finally             nonlocal            yield\n",
      "break               for                 not                 \n",
      "\n"
     ]
    }
   ],
   "source": [
    "help('keywords')"
   ]
  },
  {
   "cell_type": "code",
   "execution_count": 7,
   "id": "538fb7db-d41d-44a2-9c6f-7b7b0f89467f",
   "metadata": {},
   "outputs": [
    {
     "ename": "SyntaxError",
     "evalue": "invalid syntax (4258171486.py, line 1)",
     "output_type": "error",
     "traceback": [
      "\u001b[1;36m  Cell \u001b[1;32mIn[7], line 1\u001b[1;36m\u001b[0m\n\u001b[1;33m    for=10\u001b[0m\n\u001b[1;37m       ^\u001b[0m\n\u001b[1;31mSyntaxError\u001b[0m\u001b[1;31m:\u001b[0m invalid syntax\n"
     ]
    }
   ],
   "source": [
    "for=10"
   ]
  },
  {
   "cell_type": "code",
   "execution_count": 11,
   "id": "e2959a64-ce92-4700-b86a-675937ae8031",
   "metadata": {},
   "outputs": [
    {
     "name": "stdout",
     "output_type": "stream",
     "text": [
      "10\n"
     ]
    }
   ],
   "source": [
    "#so we can write\n",
    "VAR=10\n",
    "print(VAR)"
   ]
  },
  {
   "cell_type": "code",
   "execution_count": 13,
   "id": "3ecef0d3-511c-44e6-b0fd-6c47bc78e3d2",
   "metadata": {},
   "outputs": [
    {
     "name": "stdout",
     "output_type": "stream",
     "text": [
      "25\n"
     ]
    }
   ],
   "source": [
    "var_123=25\n",
    "print(var_123)"
   ]
  },
  {
   "cell_type": "code",
   "execution_count": 15,
   "id": "2198bf79-a312-49bb-86eb-33eb3b9b0e31",
   "metadata": {},
   "outputs": [
    {
     "name": "stdout",
     "output_type": "stream",
     "text": [
      "10\n"
     ]
    }
   ],
   "source": [
    "a=10\n",
    "print(a)"
   ]
  },
  {
   "cell_type": "code",
   "execution_count": 17,
   "id": "0c2a1e03-9c10-42d6-993e-62dcb5ed640a",
   "metadata": {},
   "outputs": [
    {
     "data": {
      "text/plain": [
       "int"
      ]
     },
     "execution_count": 17,
     "metadata": {},
     "output_type": "execute_result"
    }
   ],
   "source": [
    "type(a)"
   ]
  },
  {
   "cell_type": "code",
   "execution_count": 19,
   "id": "3538a252-2af8-4a75-99c0-f3032ab563c0",
   "metadata": {},
   "outputs": [
    {
     "name": "stdout",
     "output_type": "stream",
     "text": [
      "2.5\n"
     ]
    }
   ],
   "source": [
    "f=2.5\n",
    "print(f)"
   ]
  },
  {
   "cell_type": "code",
   "execution_count": 21,
   "id": "ce362c33-f722-47b4-9960-ab843c6a6527",
   "metadata": {},
   "outputs": [
    {
     "name": "stdout",
     "output_type": "stream",
     "text": [
      "True\n"
     ]
    }
   ],
   "source": [
    "a=True\n",
    "print(a)"
   ]
  },
  {
   "cell_type": "code",
   "execution_count": 25,
   "id": "00438df6-7d3e-4968-84df-c40c75459b73",
   "metadata": {},
   "outputs": [
    {
     "data": {
      "text/plain": [
       "'hello everyone'"
      ]
     },
     "execution_count": 25,
     "metadata": {},
     "output_type": "execute_result"
    }
   ],
   "source": [
    "a='hello everyone'\n",
    "a"
   ]
  },
  {
   "cell_type": "code",
   "execution_count": 29,
   "id": "b7032cd6-011d-4bdd-b37f-8a74051bfc48",
   "metadata": {},
   "outputs": [
    {
     "data": {
      "text/plain": [
       "str"
      ]
     },
     "execution_count": 29,
     "metadata": {},
     "output_type": "execute_result"
    }
   ],
   "source": [
    "type(a)"
   ]
  },
  {
   "cell_type": "code",
   "execution_count": 31,
   "id": "fd6b1452-d1fd-4885-bcab-c55697f5f0cc",
   "metadata": {},
   "outputs": [
    {
     "data": {
      "text/plain": [
       "str"
      ]
     },
     "execution_count": 31,
     "metadata": {},
     "output_type": "execute_result"
    }
   ],
   "source": [
    "b='abcd1234#$%^'\n",
    "type(b)"
   ]
  },
  {
   "cell_type": "code",
   "execution_count": 33,
   "id": "c9f5a069-b8bf-4226-a11f-f8d9dbb54ee6",
   "metadata": {},
   "outputs": [
    {
     "name": "stdout",
     "output_type": "stream",
     "text": [
      "this is a single line string\n",
      "this is a single line string\n"
     ]
    }
   ],
   "source": [
    "a='this is a single line string'\n",
    "b='this is a single line string'\n",
    "print(a)\n",
    "print(b)"
   ]
  },
  {
   "cell_type": "code",
   "execution_count": 35,
   "id": "c35eb85b-53e0-40e2-b42d-fd36344fe3ba",
   "metadata": {},
   "outputs": [
    {
     "name": "stdout",
     "output_type": "stream",
     "text": [
      "tasty apple\n"
     ]
    }
   ],
   "source": [
    "a='tasty apple'\n",
    "print(a)"
   ]
  },
  {
   "cell_type": "code",
   "execution_count": 37,
   "id": "23b5fbe7-80e5-402e-98e3-6a3248202d7b",
   "metadata": {},
   "outputs": [
    {
     "data": {
      "text/plain": [
       "str"
      ]
     },
     "execution_count": 37,
     "metadata": {},
     "output_type": "execute_result"
    }
   ],
   "source": [
    "type(a)"
   ]
  },
  {
   "cell_type": "code",
   "execution_count": 39,
   "id": "03665685-ce21-4254-b478-a7b52bc0cdf4",
   "metadata": {},
   "outputs": [
    {
     "data": {
      "text/plain": [
       "'y'"
      ]
     },
     "execution_count": 39,
     "metadata": {},
     "output_type": "execute_result"
    }
   ],
   "source": [
    "a[4]"
   ]
  },
  {
   "cell_type": "code",
   "execution_count": 41,
   "id": "9c6276ab-88ad-42c3-bf62-fc263609dc45",
   "metadata": {},
   "outputs": [
    {
     "data": {
      "text/plain": [
       "'y'"
      ]
     },
     "execution_count": 41,
     "metadata": {},
     "output_type": "execute_result"
    }
   ],
   "source": [
    "a[-7]"
   ]
  },
  {
   "cell_type": "code",
   "execution_count": 45,
   "id": "e469c3cf-aa96-40b2-b764-d9972a6237f2",
   "metadata": {},
   "outputs": [
    {
     "data": {
      "text/plain": [
       "'sty a'"
      ]
     },
     "execution_count": 45,
     "metadata": {},
     "output_type": "execute_result"
    }
   ],
   "source": [
    "a[-9:-4:1]"
   ]
  },
  {
   "cell_type": "code",
   "execution_count": 49,
   "id": "be430ac9-3fb9-47bc-8271-96da881e9b0f",
   "metadata": {},
   "outputs": [
    {
     "data": {
      "text/plain": [
       "'tsyape'"
      ]
     },
     "execution_count": 49,
     "metadata": {},
     "output_type": "execute_result"
    }
   ],
   "source": [
    "a[-11::2]"
   ]
  },
  {
   "cell_type": "code",
   "execution_count": 51,
   "id": "866ef4de-70c6-4064-9646-b53cffc1eb82",
   "metadata": {},
   "outputs": [
    {
     "data": {
      "text/plain": [
       "'ttal'"
      ]
     },
     "execution_count": 51,
     "metadata": {},
     "output_type": "execute_result"
    }
   ],
   "source": [
    "a[0:10:3]"
   ]
  },
  {
   "cell_type": "code",
   "execution_count": 55,
   "id": "b10d8f1a-1c3c-4e25-a79c-9d5389497158",
   "metadata": {},
   "outputs": [
    {
     "data": {
      "text/plain": [
       "'sty a'"
      ]
     },
     "execution_count": 55,
     "metadata": {},
     "output_type": "execute_result"
    }
   ],
   "source": [
    "a[2:-4:1]"
   ]
  },
  {
   "cell_type": "code",
   "execution_count": 57,
   "id": "d63756c7-3ee1-4619-a4fa-1415402f7457",
   "metadata": {},
   "outputs": [
    {
     "data": {
      "text/plain": [
       "'tasty apple'"
      ]
     },
     "execution_count": 57,
     "metadata": {},
     "output_type": "execute_result"
    }
   ],
   "source": [
    "a[::]"
   ]
  },
  {
   "cell_type": "code",
   "execution_count": 59,
   "id": "e571473e-b00d-46e9-a44b-43abcf886991",
   "metadata": {},
   "outputs": [
    {
     "data": {
      "text/plain": [
       "'elppa ytsat'"
      ]
     },
     "execution_count": 59,
     "metadata": {},
     "output_type": "execute_result"
    }
   ],
   "source": [
    "a[::-1]"
   ]
  },
  {
   "cell_type": "code",
   "execution_count": 61,
   "id": "6495b5ca-93c0-43b1-8908-1329b2190f26",
   "metadata": {},
   "outputs": [
    {
     "data": {
      "text/plain": [
       "''"
      ]
     },
     "execution_count": 61,
     "metadata": {},
     "output_type": "execute_result"
    }
   ],
   "source": [
    "a[2:7:-1]"
   ]
  },
  {
   "cell_type": "code",
   "execution_count": 63,
   "id": "96907ca8-1819-4148-b5ba-81044fd4a7d0",
   "metadata": {},
   "outputs": [
    {
     "data": {
      "text/plain": [
       "'a yts'"
      ]
     },
     "execution_count": 63,
     "metadata": {},
     "output_type": "execute_result"
    }
   ],
   "source": [
    "a[-5:-10:-1]"
   ]
  },
  {
   "cell_type": "code",
   "execution_count": 65,
   "id": "43637fe6-efc4-47f8-823e-035f66d359c5",
   "metadata": {},
   "outputs": [
    {
     "data": {
      "text/plain": [
       "'a yts'"
      ]
     },
     "execution_count": 65,
     "metadata": {},
     "output_type": "execute_result"
    }
   ],
   "source": [
    "a[-5:1:-1]"
   ]
  },
  {
   "cell_type": "code",
   "execution_count": 67,
   "id": "039c39de-08aa-4502-9f09-30558a64f2b5",
   "metadata": {},
   "outputs": [
    {
     "data": {
      "text/plain": [
       "'hello everyone'"
      ]
     },
     "execution_count": 67,
     "metadata": {},
     "output_type": "execute_result"
    }
   ],
   "source": [
    "a='hello everyone'\n",
    "a"
   ]
  },
  {
   "cell_type": "code",
   "execution_count": 69,
   "id": "bbda47f9-38ef-4ec3-aa82-98ce08bc1140",
   "metadata": {},
   "outputs": [
    {
     "data": {
      "text/plain": [
       "str"
      ]
     },
     "execution_count": 69,
     "metadata": {},
     "output_type": "execute_result"
    }
   ],
   "source": [
    "type(a)"
   ]
  },
  {
   "cell_type": "code",
   "execution_count": 73,
   "id": "910b0b3a-b2de-4272-b360-0593ae02ea91",
   "metadata": {},
   "outputs": [
    {
     "data": {
      "text/plain": [
       "'Hello everyone'"
      ]
     },
     "execution_count": 73,
     "metadata": {},
     "output_type": "execute_result"
    }
   ],
   "source": [
    "a.capitalize()"
   ]
  },
  {
   "cell_type": "code",
   "execution_count": 75,
   "id": "be7ebc43-e934-4650-9652-faaffbc348d6",
   "metadata": {},
   "outputs": [
    {
     "data": {
      "text/plain": [
       "'HELLO EVERYONE'"
      ]
     },
     "execution_count": 75,
     "metadata": {},
     "output_type": "execute_result"
    }
   ],
   "source": [
    "a.upper()\n"
   ]
  },
  {
   "cell_type": "code",
   "execution_count": 77,
   "id": "cdb0b936-0a9e-4eda-8bd6-89bff5d927af",
   "metadata": {},
   "outputs": [
    {
     "data": {
      "text/plain": [
       "'hello everyone'"
      ]
     },
     "execution_count": 77,
     "metadata": {},
     "output_type": "execute_result"
    }
   ],
   "source": [
    "a.lower()"
   ]
  },
  {
   "cell_type": "code",
   "execution_count": 83,
   "id": "2f0b12b0-0a7d-46cf-81c8-f9191c853bdc",
   "metadata": {},
   "outputs": [
    {
     "data": {
      "text/plain": [
       "'hello everyone'"
      ]
     },
     "execution_count": 83,
     "metadata": {},
     "output_type": "execute_result"
    }
   ],
   "source": [
    "a.lower()"
   ]
  },
  {
   "cell_type": "code",
   "execution_count": 89,
   "id": "282977d4-7ca8-467a-8257-cfeb3ba778a5",
   "metadata": {},
   "outputs": [
    {
     "data": {
      "text/plain": [
       "'HELLO EVERYONE'"
      ]
     },
     "execution_count": 89,
     "metadata": {},
     "output_type": "execute_result"
    }
   ],
   "source": [
    "a.upper()"
   ]
  },
  {
   "cell_type": "code",
   "execution_count": 95,
   "id": "ed9849d1-189f-40d9-aa0a-5f2f1daddfee",
   "metadata": {},
   "outputs": [
    {
     "data": {
      "text/plain": [
       "'   hello everyone   '"
      ]
     },
     "execution_count": 95,
     "metadata": {},
     "output_type": "execute_result"
    }
   ],
   "source": [
    "a.center(20)"
   ]
  },
  {
   "cell_type": "code",
   "execution_count": 97,
   "id": "5ea1799b-88d8-4415-b3d8-8128d1a831ff",
   "metadata": {},
   "outputs": [
    {
     "data": {
      "text/plain": [
       "4"
      ]
     },
     "execution_count": 97,
     "metadata": {},
     "output_type": "execute_result"
    }
   ],
   "source": [
    "a.count('e')"
   ]
  },
  {
   "cell_type": "code",
   "execution_count": 99,
   "id": "76ab3fa1-a936-4a46-a2be-d9e79242ad6b",
   "metadata": {},
   "outputs": [
    {
     "data": {
      "text/plain": [
       "0"
      ]
     },
     "execution_count": 99,
     "metadata": {},
     "output_type": "execute_result"
    }
   ],
   "source": [
    "a.count('f')"
   ]
  },
  {
   "cell_type": "code",
   "execution_count": 101,
   "id": "159e0342-d7b5-4ce7-bb26-be3181b5a7d2",
   "metadata": {},
   "outputs": [
    {
     "data": {
      "text/plain": [
       "['ram', 'sita', 'gita']"
      ]
     },
     "execution_count": 101,
     "metadata": {},
     "output_type": "execute_result"
    }
   ],
   "source": [
    "'ram sita gita'.split()"
   ]
  },
  {
   "cell_type": "code",
   "execution_count": 103,
   "id": "2c12f43b-9233-4691-9295-6302a1132b23",
   "metadata": {},
   "outputs": [
    {
     "data": {
      "text/plain": [
       "'HELLO EVERYONE'"
      ]
     },
     "execution_count": 103,
     "metadata": {},
     "output_type": "execute_result"
    }
   ],
   "source": [
    "a.swapcase()\n"
   ]
  },
  {
   "cell_type": "code",
   "execution_count": 105,
   "id": "d9d3c156-0abd-4d59-a303-dd6b42bb2b93",
   "metadata": {},
   "outputs": [
    {
     "data": {
      "text/plain": [
       "'Hello Everyone'"
      ]
     },
     "execution_count": 105,
     "metadata": {},
     "output_type": "execute_result"
    }
   ],
   "source": [
    "a.title()"
   ]
  },
  {
   "cell_type": "code",
   "execution_count": 107,
   "id": "c7369539-6541-4675-85d0-b5b861efa5cc",
   "metadata": {},
   "outputs": [
    {
     "data": {
      "text/plain": [
       "'hello'"
      ]
     },
     "execution_count": 107,
     "metadata": {},
     "output_type": "execute_result"
    }
   ],
   "source": [
    "'             hello           '.strip()"
   ]
  },
  {
   "cell_type": "code",
   "execution_count": 111,
   "id": "46270c7b-aee2-4b34-835b-fbf696956747",
   "metadata": {},
   "outputs": [
    {
     "data": {
      "text/plain": [
       "True"
      ]
     },
     "execution_count": 111,
     "metadata": {},
     "output_type": "execute_result"
    }
   ],
   "source": [
    "'ABcd'.isalpha()"
   ]
  },
  {
   "cell_type": "code",
   "execution_count": 113,
   "id": "42caac09-0ec4-40d0-8ef5-4624e9cb88f3",
   "metadata": {},
   "outputs": [
    {
     "data": {
      "text/plain": [
       "True"
      ]
     },
     "execution_count": 113,
     "metadata": {},
     "output_type": "execute_result"
    }
   ],
   "source": [
    "'12345'.isdigit()"
   ]
  },
  {
   "cell_type": "code",
   "execution_count": 117,
   "id": "7a041af2-dfae-45e5-9ff2-f0b1697e2201",
   "metadata": {},
   "outputs": [
    {
     "data": {
      "text/plain": [
       "True"
      ]
     },
     "execution_count": 117,
     "metadata": {},
     "output_type": "execute_result"
    }
   ],
   "source": [
    "'ABCD'.isupper()"
   ]
  },
  {
   "cell_type": "code",
   "execution_count": 119,
   "id": "a0a903a8-33a1-45a0-a928-15c988724317",
   "metadata": {},
   "outputs": [
    {
     "data": {
      "text/plain": [
       "True"
      ]
     },
     "execution_count": 119,
     "metadata": {},
     "output_type": "execute_result"
    }
   ],
   "source": [
    "'abcd'.islower()"
   ]
  },
  {
   "cell_type": "code",
   "execution_count": 121,
   "id": "eb3b5d55-5241-4b08-a0e4-c2a3c9c78c5a",
   "metadata": {},
   "outputs": [
    {
     "data": {
      "text/plain": [
       "True"
      ]
     },
     "execution_count": 121,
     "metadata": {},
     "output_type": "execute_result"
    }
   ],
   "source": [
    "'abcd'.isalnum()"
   ]
  },
  {
   "cell_type": "code",
   "execution_count": 123,
   "id": "08b7a98a-d6df-4f1d-be8c-7ef621a0d7bb",
   "metadata": {},
   "outputs": [
    {
     "data": {
      "text/plain": [
       "True"
      ]
     },
     "execution_count": 123,
     "metadata": {},
     "output_type": "execute_result"
    }
   ],
   "source": [
    "'1234'.isalnum()"
   ]
  },
  {
   "cell_type": "code",
   "execution_count": 125,
   "id": "46b15492-3fcc-4c65-b3c7-411b3b380353",
   "metadata": {},
   "outputs": [
    {
     "data": {
      "text/plain": [
       "False"
      ]
     },
     "execution_count": 125,
     "metadata": {},
     "output_type": "execute_result"
    }
   ],
   "source": [
    "'var 123'.isidentifier()"
   ]
  },
  {
   "cell_type": "code",
   "execution_count": 139,
   "id": "9ebc2cd7-717e-4921-ac6d-74899811085d",
   "metadata": {},
   "outputs": [
    {
     "name": "stdout",
     "output_type": "stream",
     "text": [
      "[20, 3.5, 'cat', True]\n"
     ]
    }
   ],
   "source": [
    "l=[20,3.5,'cat',True]\n",
    "print(l)"
   ]
  },
  {
   "cell_type": "code",
   "execution_count": 141,
   "id": "c7ab51f8-e44e-44de-b344-98a9918e1bbd",
   "metadata": {},
   "outputs": [
    {
     "data": {
      "text/plain": [
       "int"
      ]
     },
     "execution_count": 141,
     "metadata": {},
     "output_type": "execute_result"
    }
   ],
   "source": [
    "type(1)"
   ]
  },
  {
   "cell_type": "code",
   "execution_count": 147,
   "id": "de5c7f2b-d53b-4357-bd0e-ba022eddd8b4",
   "metadata": {},
   "outputs": [
    {
     "data": {
      "text/plain": [
       "True"
      ]
     },
     "execution_count": 147,
     "metadata": {},
     "output_type": "execute_result"
    }
   ],
   "source": [
    "l[3]"
   ]
  },
  {
   "cell_type": "code",
   "execution_count": 149,
   "id": "75781feb-4e8e-47be-bacf-b15b7d45501b",
   "metadata": {},
   "outputs": [
    {
     "data": {
      "text/plain": [
       "True"
      ]
     },
     "execution_count": 149,
     "metadata": {},
     "output_type": "execute_result"
    }
   ],
   "source": [
    "l[-1]"
   ]
  },
  {
   "cell_type": "code",
   "execution_count": 151,
   "id": "70aba3e9-5a0f-4143-a081-d76b86cbade7",
   "metadata": {},
   "outputs": [
    {
     "data": {
      "text/plain": [
       "[20, 'cat']"
      ]
     },
     "execution_count": 151,
     "metadata": {},
     "output_type": "execute_result"
    }
   ],
   "source": [
    "l[-4:-1:2]"
   ]
  },
  {
   "cell_type": "code",
   "execution_count": 153,
   "id": "edcabe82-1574-418d-9f10-9b62dba0497c",
   "metadata": {},
   "outputs": [
    {
     "data": {
      "text/plain": [
       "[True, 'cat', 3.5, 20]"
      ]
     },
     "execution_count": 153,
     "metadata": {},
     "output_type": "execute_result"
    }
   ],
   "source": [
    "l[::-1]"
   ]
  },
  {
   "cell_type": "code",
   "execution_count": 155,
   "id": "2e5abf1b-20eb-4378-aec9-02778633f75e",
   "metadata": {},
   "outputs": [
    {
     "name": "stdout",
     "output_type": "stream",
     "text": [
      "[30, 56, 53, 45, 67, 86, 98]\n"
     ]
    },
    {
     "data": {
      "text/plain": [
       "list"
      ]
     },
     "execution_count": 155,
     "metadata": {},
     "output_type": "execute_result"
    }
   ],
   "source": [
    "l=[30,56,53,45,67,86,98]\n",
    "print(l)\n",
    "type(l)"
   ]
  },
  {
   "cell_type": "code",
   "execution_count": 157,
   "id": "a1a16cba-2fc1-42ed-b02f-c459a8595d59",
   "metadata": {},
   "outputs": [
    {
     "name": "stdout",
     "output_type": "stream",
     "text": [
      "[30, 56, 53, 45, 67, 86, 98]\n",
      "[30, 56, 53, 45, 67, 86, 98, 90]\n"
     ]
    }
   ],
   "source": [
    "print(l)\n",
    "l.append(90)\n",
    "print(l)"
   ]
  },
  {
   "cell_type": "code",
   "execution_count": 159,
   "id": "57819f2d-8b5a-457c-9777-a9def203bba1",
   "metadata": {},
   "outputs": [
    {
     "name": "stdout",
     "output_type": "stream",
     "text": [
      "[30, 56, 53, 45, 67, 86, 98, 90]\n",
      "[30, 56, 53, 70, 45, 67, 86, 98, 90]\n"
     ]
    }
   ],
   "source": [
    "print(l)\n",
    "l.insert(3,70)\n",
    "print(l)"
   ]
  },
  {
   "cell_type": "code",
   "execution_count": 161,
   "id": "0cad6618-a560-4207-8b9d-58ff325829a5",
   "metadata": {},
   "outputs": [
    {
     "name": "stdout",
     "output_type": "stream",
     "text": [
      "[30, 56, 53, 70, 45, 67, 86, 98, 90]\n",
      "[30, 56, 53, 70, 45, 67, 86, 98, 90, 20, 30, 40]\n"
     ]
    }
   ],
   "source": [
    "print(l)\n",
    "l.extend([20,30,40])\n",
    "print(l)"
   ]
  },
  {
   "cell_type": "code",
   "execution_count": 163,
   "id": "18a1be04-0e46-4098-ac01-b81509f66105",
   "metadata": {},
   "outputs": [
    {
     "name": "stdout",
     "output_type": "stream",
     "text": [
      "[30, 56, 53, 70, 45, 67, 86, 98, 90, 20, 30, 40]\n",
      "[30, 56, 53, 70, 67, 86, 98, 90, 20, 30, 40]\n"
     ]
    }
   ],
   "source": [
    "print(l)\n",
    "l.pop(4)\n",
    "print(l)"
   ]
  },
  {
   "cell_type": "code",
   "execution_count": 165,
   "id": "85c17c16-81a0-40dc-b315-7dfeb9a7869f",
   "metadata": {},
   "outputs": [
    {
     "name": "stdout",
     "output_type": "stream",
     "text": [
      "[30, 56, 53, 70, 67, 86, 98, 90, 20, 30, 40]\n",
      "[30, 53, 70, 67, 86, 98, 90, 20, 30, 40]\n"
     ]
    }
   ],
   "source": [
    "print(l)\n",
    "l.remove(56)\n",
    "print(l)"
   ]
  },
  {
   "cell_type": "code",
   "execution_count": 171,
   "id": "b9ab9102-b16a-4a8c-a8de-adf642f14473",
   "metadata": {},
   "outputs": [
    {
     "name": "stdout",
     "output_type": "stream",
     "text": [
      "[30, 53, 70, 67, 86, 98, 90, 20, 30, 40]\n",
      "[30, 53, 70, 67, 86, 98, 90, 20, 30, 40]\n"
     ]
    }
   ],
   "source": [
    "print(l)\n",
    "m=l.copy()\n",
    "print(m)"
   ]
  },
  {
   "cell_type": "code",
   "execution_count": 175,
   "id": "aca178e2-9e40-4929-ae88-d095ced0f077",
   "metadata": {},
   "outputs": [
    {
     "data": {
      "text/plain": [
       "0"
      ]
     },
     "execution_count": 175,
     "metadata": {},
     "output_type": "execute_result"
    }
   ],
   "source": [
    "l.count(56)"
   ]
  },
  {
   "cell_type": "code",
   "execution_count": 179,
   "id": "9bc7239e-c4e8-4e4f-997a-ac33b1ec58bf",
   "metadata": {},
   "outputs": [
    {
     "data": {
      "text/plain": [
       "4"
      ]
     },
     "execution_count": 179,
     "metadata": {},
     "output_type": "execute_result"
    }
   ],
   "source": [
    "l.index(86)"
   ]
  },
  {
   "cell_type": "code",
   "execution_count": 181,
   "id": "5d8f7ba5-70c9-4760-bd73-817d2041d341",
   "metadata": {},
   "outputs": [
    {
     "name": "stdout",
     "output_type": "stream",
     "text": [
      "[30, 53, 70, 67, 86, 98, 90, 20, 30, 40]\n",
      "[20, 30, 30, 40, 53, 67, 70, 86, 90, 98]\n"
     ]
    }
   ],
   "source": [
    "print(l)\n",
    "l.sort()\n",
    "print(l)"
   ]
  },
  {
   "cell_type": "code",
   "execution_count": 183,
   "id": "95a1a42f-74dc-4088-b934-6b40e065ba76",
   "metadata": {},
   "outputs": [
    {
     "name": "stdout",
     "output_type": "stream",
     "text": [
      "[20, 30, 30, 40, 53, 67, 70, 86, 90, 98]\n",
      "[98, 90, 86, 70, 67, 53, 40, 30, 30, 20]\n"
     ]
    }
   ],
   "source": [
    "print(l)\n",
    "l.sort(reverse=True)\n",
    "print(l)"
   ]
  },
  {
   "cell_type": "code",
   "execution_count": 187,
   "id": "58485860-62a9-4e5e-a815-041b1c55e1e5",
   "metadata": {},
   "outputs": [
    {
     "name": "stdout",
     "output_type": "stream",
     "text": [
      "[30, 56, 78, 45, 20]\n",
      "[20, 45, 78, 56, 30]\n"
     ]
    }
   ],
   "source": [
    "a=[30,56,78,45,20]\n",
    "print(a)\n",
    "a.reverse()\n",
    "print(a)"
   ]
  },
  {
   "cell_type": "code",
   "execution_count": 189,
   "id": "421fec64-f9b6-4930-b80f-ebc36f7e68b7",
   "metadata": {},
   "outputs": [
    {
     "name": "stdout",
     "output_type": "stream",
     "text": [
      "[98, 90, 86, 70, 67, 53, 40, 30, 30, 20]\n",
      "[]\n"
     ]
    }
   ],
   "source": [
    "print(l)\n",
    "l.clear()\n",
    "print(l)"
   ]
  },
  {
   "cell_type": "code",
   "execution_count": null,
   "id": "babf992f-c90f-4875-915f-a43c6d08bf4b",
   "metadata": {},
   "outputs": [],
   "source": []
  }
 ],
 "metadata": {
  "kernelspec": {
   "display_name": "Python 3 (ipykernel)",
   "language": "python",
   "name": "python3"
  },
  "language_info": {
   "codemirror_mode": {
    "name": "ipython",
    "version": 3
   },
   "file_extension": ".py",
   "mimetype": "text/x-python",
   "name": "python",
   "nbconvert_exporter": "python",
   "pygments_lexer": "ipython3",
   "version": "3.12.4"
  }
 },
 "nbformat": 4,
 "nbformat_minor": 5
}
