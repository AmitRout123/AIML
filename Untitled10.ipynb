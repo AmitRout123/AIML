{
 "cells": [
  {
   "cell_type": "code",
   "execution_count": 5,
   "id": "4a311e7e-d77d-4ab5-a4a5-1b2d9ea58050",
   "metadata": {},
   "outputs": [
    {
     "ename": "ModuleNotFoundError",
     "evalue": "No module named 'sklearn.feature_extraction.txt'",
     "output_type": "error",
     "traceback": [
      "\u001b[1;31m---------------------------------------------------------------------------\u001b[0m",
      "\u001b[1;31mModuleNotFoundError\u001b[0m                       Traceback (most recent call last)",
      "Cell \u001b[1;32mIn[5], line 3\u001b[0m\n\u001b[0;32m      1\u001b[0m \u001b[38;5;66;03m#count Vectorizer\u001b[39;00m\n\u001b[1;32m----> 3\u001b[0m \u001b[38;5;28;01mfrom\u001b[39;00m \u001b[38;5;21;01msklearn\u001b[39;00m\u001b[38;5;21;01m.\u001b[39;00m\u001b[38;5;21;01mfeature_extraction\u001b[39;00m\u001b[38;5;21;01m.\u001b[39;00m\u001b[38;5;21;01mtxt\u001b[39;00m \u001b[38;5;28;01mimport\u001b[39;00m CountVectorizer\n\u001b[0;32m      4\u001b[0m cv \u001b[38;5;241m=\u001b[39m CountVectorizer()\n\u001b[0;32m      6\u001b[0m txt\u001b[38;5;241m=\u001b[39m[\u001b[38;5;124m'\u001b[39m\u001b[38;5;124mI love Singing and I love Painting\u001b[39m\u001b[38;5;124m'\u001b[39m]\n",
      "\u001b[1;31mModuleNotFoundError\u001b[0m: No module named 'sklearn.feature_extraction.txt'"
     ]
    }
   ],
   "source": [
    "#count Vectorizer\n",
    "\n",
    "from sklearn.feature_extraction.txt import CountVectorizer\n",
    "cv = CountVectorizer()\n",
    "\n",
    "txt=['I love Singing and I love Painting']\n",
    "x = cv.fit_transform(txt)"
   ]
  },
  {
   "cell_type": "code",
   "execution_count": null,
   "id": "2b345e7f-04ab-4056-b2f6-8db9f3c45515",
   "metadata": {},
   "outputs": [],
   "source": []
  }
 ],
 "metadata": {
  "kernelspec": {
   "display_name": "Python 3 (ipykernel)",
   "language": "python",
   "name": "python3"
  },
  "language_info": {
   "codemirror_mode": {
    "name": "ipython",
    "version": 3
   },
   "file_extension": ".py",
   "mimetype": "text/x-python",
   "name": "python",
   "nbconvert_exporter": "python",
   "pygments_lexer": "ipython3",
   "version": "3.12.4"
  }
 },
 "nbformat": 4,
 "nbformat_minor": 5
}
