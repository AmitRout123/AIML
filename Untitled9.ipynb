{
 "cells": [
  {
   "cell_type": "code",
   "execution_count": 1,
   "id": "dad36b8a-523a-4294-8359-b9196c6c5903",
   "metadata": {},
   "outputs": [],
   "source": [
    "#natural language Tool kit\n",
    "\n",
    "import nltk"
   ]
  },
  {
   "cell_type": "code",
   "execution_count": 5,
   "id": "7459c9c4-65e2-43a3-ad59-a6695f732266",
   "metadata": {},
   "outputs": [
    {
     "name": "stdout",
     "output_type": "stream",
     "text": [
      "showing info https://raw.githubusercontent.com/nltk/nltk_data/gh-pages/index.xml\n"
     ]
    },
    {
     "data": {
      "text/plain": [
       "True"
      ]
     },
     "execution_count": 5,
     "metadata": {},
     "output_type": "execute_result"
    }
   ],
   "source": [
    "nltk.download()"
   ]
  },
  {
   "cell_type": "code",
   "execution_count": 7,
   "id": "395908ee-4813-4bf2-87f0-483069a60cf9",
   "metadata": {},
   "outputs": [
    {
     "data": {
      "text/plain": [
       "'I lOVE PAINTING . IZZAT LOVES PAINTING'"
      ]
     },
     "execution_count": 7,
     "metadata": {},
     "output_type": "execute_result"
    }
   ],
   "source": [
    "txt=\"I lOVE PAINTING . IZZAT LOVES PAINTING\"\n",
    "txt"
   ]
  },
  {
   "cell_type": "code",
   "execution_count": 9,
   "id": "6e477898-eea1-49b3-b64f-a305d3186ab8",
   "metadata": {},
   "outputs": [
    {
     "data": {
      "text/plain": [
       "['I lOVE PAINTING .', 'IZZAT LOVES PAINTING']"
      ]
     },
     "execution_count": 9,
     "metadata": {},
     "output_type": "execute_result"
    }
   ],
   "source": [
    "from nltk import sent_tokenize\n",
    "sent_tokenize(txt)"
   ]
  },
  {
   "cell_type": "code",
   "execution_count": 11,
   "id": "ca88eb1f-ebe8-4acc-acd7-bf9c6f068381",
   "metadata": {},
   "outputs": [
    {
     "data": {
      "text/plain": [
       "['I', 'lOVE', 'PAINTING', '.', 'IZZAT', 'LOVES', 'PAINTING']"
      ]
     },
     "execution_count": 11,
     "metadata": {},
     "output_type": "execute_result"
    }
   ],
   "source": [
    "from nltk import word_tokenize\n",
    "word_tokenize(txt)"
   ]
  },
  {
   "cell_type": "code",
   "execution_count": 13,
   "id": "ea5e89e4-3e67-4ceb-b7b6-f6c787e1dee5",
   "metadata": {},
   "outputs": [],
   "source": [
    "from nltk.stem import PorterStemmer\n",
    "ps=PorterStemmer()"
   ]
  },
  {
   "cell_type": "code",
   "execution_count": 17,
   "id": "c1f48854-d410-4fcd-8e26-f284004c0d17",
   "metadata": {},
   "outputs": [
    {
     "data": {
      "text/plain": [
       "'car'"
      ]
     },
     "execution_count": 17,
     "metadata": {},
     "output_type": "execute_result"
    }
   ],
   "source": [
    "ps.stem(\"car\")"
   ]
  },
  {
   "cell_type": "code",
   "execution_count": 19,
   "id": "5b06bdb2-e11b-4086-9181-34ef53fda309",
   "metadata": {},
   "outputs": [
    {
     "data": {
      "text/plain": [
       "'wait'"
      ]
     },
     "execution_count": 19,
     "metadata": {},
     "output_type": "execute_result"
    }
   ],
   "source": [
    "ps.stem(\"waiting\")"
   ]
  },
  {
   "cell_type": "code",
   "execution_count": 21,
   "id": "f39a1ca8-e7ed-4cca-910e-4adee1970829",
   "metadata": {},
   "outputs": [
    {
     "data": {
      "text/plain": [
       "'studi'"
      ]
     },
     "execution_count": 21,
     "metadata": {},
     "output_type": "execute_result"
    }
   ],
   "source": [
    "ps.stem(\"studying\")"
   ]
  },
  {
   "cell_type": "code",
   "execution_count": 23,
   "id": "f5e84a21-f0f8-42bd-8347-d54392627a71",
   "metadata": {},
   "outputs": [],
   "source": [
    "from nltk.stem import WordNetLemmatizer\n",
    "lm=WordNetLemmatizer()"
   ]
  },
  {
   "cell_type": "code",
   "execution_count": 31,
   "id": "fdc59f2d-02b3-4b3c-a804-fbd2e21d87a6",
   "metadata": {},
   "outputs": [
    {
     "data": {
      "text/plain": [
       "'go'"
      ]
     },
     "execution_count": 31,
     "metadata": {},
     "output_type": "execute_result"
    }
   ],
   "source": [
    "lm.lemmatize('went','v')"
   ]
  },
  {
   "cell_type": "code",
   "execution_count": 33,
   "id": "8587da3f-36c0-4083-8407-ad5897e05648",
   "metadata": {},
   "outputs": [
    {
     "data": {
      "text/plain": [
       "'study'"
      ]
     },
     "execution_count": 33,
     "metadata": {},
     "output_type": "execute_result"
    }
   ],
   "source": [
    "lm.lemmatize('studying','v')"
   ]
  },
  {
   "cell_type": "code",
   "execution_count": 51,
   "id": "f95ea2c1-0f0a-4829-af3f-7c00a90687df",
   "metadata": {},
   "outputs": [
    {
     "data": {
      "text/plain": [
       "['и',\n",
       " 'в',\n",
       " 'во',\n",
       " 'не',\n",
       " 'что',\n",
       " 'он',\n",
       " 'на',\n",
       " 'я',\n",
       " 'с',\n",
       " 'со',\n",
       " 'как',\n",
       " 'а',\n",
       " 'то',\n",
       " 'все',\n",
       " 'она',\n",
       " 'так',\n",
       " 'его',\n",
       " 'но',\n",
       " 'да',\n",
       " 'ты',\n",
       " 'к',\n",
       " 'у',\n",
       " 'же',\n",
       " 'вы',\n",
       " 'за',\n",
       " 'бы',\n",
       " 'по',\n",
       " 'только',\n",
       " 'ее',\n",
       " 'мне',\n",
       " 'было',\n",
       " 'вот',\n",
       " 'от',\n",
       " 'меня',\n",
       " 'еще',\n",
       " 'нет',\n",
       " 'о',\n",
       " 'из',\n",
       " 'ему',\n",
       " 'теперь',\n",
       " 'когда',\n",
       " 'даже',\n",
       " 'ну',\n",
       " 'вдруг',\n",
       " 'ли',\n",
       " 'если',\n",
       " 'уже',\n",
       " 'или',\n",
       " 'ни',\n",
       " 'быть',\n",
       " 'был',\n",
       " 'него',\n",
       " 'до',\n",
       " 'вас',\n",
       " 'нибудь',\n",
       " 'опять',\n",
       " 'уж',\n",
       " 'вам',\n",
       " 'ведь',\n",
       " 'там',\n",
       " 'потом',\n",
       " 'себя',\n",
       " 'ничего',\n",
       " 'ей',\n",
       " 'может',\n",
       " 'они',\n",
       " 'тут',\n",
       " 'где',\n",
       " 'есть',\n",
       " 'надо',\n",
       " 'ней',\n",
       " 'для',\n",
       " 'мы',\n",
       " 'тебя',\n",
       " 'их',\n",
       " 'чем',\n",
       " 'была',\n",
       " 'сам',\n",
       " 'чтоб',\n",
       " 'без',\n",
       " 'будто',\n",
       " 'чего',\n",
       " 'раз',\n",
       " 'тоже',\n",
       " 'себе',\n",
       " 'под',\n",
       " 'будет',\n",
       " 'ж',\n",
       " 'тогда',\n",
       " 'кто',\n",
       " 'этот',\n",
       " 'того',\n",
       " 'потому',\n",
       " 'этого',\n",
       " 'какой',\n",
       " 'совсем',\n",
       " 'ним',\n",
       " 'здесь',\n",
       " 'этом',\n",
       " 'один',\n",
       " 'почти',\n",
       " 'мой',\n",
       " 'тем',\n",
       " 'чтобы',\n",
       " 'нее',\n",
       " 'сейчас',\n",
       " 'были',\n",
       " 'куда',\n",
       " 'зачем',\n",
       " 'всех',\n",
       " 'никогда',\n",
       " 'можно',\n",
       " 'при',\n",
       " 'наконец',\n",
       " 'два',\n",
       " 'об',\n",
       " 'другой',\n",
       " 'хоть',\n",
       " 'после',\n",
       " 'над',\n",
       " 'больше',\n",
       " 'тот',\n",
       " 'через',\n",
       " 'эти',\n",
       " 'нас',\n",
       " 'про',\n",
       " 'всего',\n",
       " 'них',\n",
       " 'какая',\n",
       " 'много',\n",
       " 'разве',\n",
       " 'три',\n",
       " 'эту',\n",
       " 'моя',\n",
       " 'впрочем',\n",
       " 'хорошо',\n",
       " 'свою',\n",
       " 'этой',\n",
       " 'перед',\n",
       " 'иногда',\n",
       " 'лучше',\n",
       " 'чуть',\n",
       " 'том',\n",
       " 'нельзя',\n",
       " 'такой',\n",
       " 'им',\n",
       " 'более',\n",
       " 'всегда',\n",
       " 'конечно',\n",
       " 'всю',\n",
       " 'между']"
      ]
     },
     "execution_count": 51,
     "metadata": {},
     "output_type": "execute_result"
    }
   ],
   "source": [
    "from nltk.corpus import stopwords\n",
    "stopwords.words('russian')"
   ]
  },
  {
   "cell_type": "code",
   "execution_count": 45,
   "id": "4c8aba91-4deb-4483-af72-f6b5c5b2e9b8",
   "metadata": {},
   "outputs": [
    {
     "data": {
      "text/plain": [
       "'Mount everest is the highest peak of the world'"
      ]
     },
     "execution_count": 45,
     "metadata": {},
     "output_type": "execute_result"
    }
   ],
   "source": [
    "txt='Mount everest is the highest peak of the world'\n",
    "txt"
   ]
  },
  {
   "cell_type": "code",
   "execution_count": 47,
   "id": "2e56e3d1-782c-41b4-bb07-116a00374f97",
   "metadata": {},
   "outputs": [
    {
     "data": {
      "text/plain": [
       "['Mount', 'everest', 'is', 'the', 'highest', 'peak', 'of', 'the', 'world']"
      ]
     },
     "execution_count": 47,
     "metadata": {},
     "output_type": "execute_result"
    }
   ],
   "source": [
    "txt_tokens=word_tokenize(txt)\n",
    "txt_tokens"
   ]
  },
  {
   "cell_type": "code",
   "execution_count": 49,
   "id": "723746b0-052a-42fe-b628-63f8abb8271c",
   "metadata": {},
   "outputs": [
    {
     "data": {
      "text/plain": [
       "[('Mount', 'NNP'),\n",
       " ('everest', 'JJS'),\n",
       " ('is', 'VBZ'),\n",
       " ('the', 'DT'),\n",
       " ('highest', 'JJS'),\n",
       " ('peak', 'NN'),\n",
       " ('of', 'IN'),\n",
       " ('the', 'DT'),\n",
       " ('world', 'NN')]"
      ]
     },
     "execution_count": 49,
     "metadata": {},
     "output_type": "execute_result"
    }
   ],
   "source": [
    "txt_tags=nltk.pos_tag(txt_tokens)\n",
    "txt_tags"
   ]
  },
  {
   "cell_type": "code",
   "execution_count": 53,
   "id": "db40565c-705e-48e8-9289-77f4f7c2fe70",
   "metadata": {},
   "outputs": [
    {
     "ename": "NameError",
     "evalue": "name 't_tags' is not defined",
     "output_type": "error",
     "traceback": [
      "\u001b[1;31m---------------------------------------------------------------------------\u001b[0m",
      "\u001b[1;31mNameError\u001b[0m                                 Traceback (most recent call last)",
      "Cell \u001b[1;32mIn[53], line 2\u001b[0m\n\u001b[0;32m      1\u001b[0m \u001b[38;5;28;01mfrom\u001b[39;00m \u001b[38;5;21;01mnltk\u001b[39;00m \u001b[38;5;28;01mimport\u001b[39;00m ne_chunk\n\u001b[1;32m----> 2\u001b[0m t_chunk\u001b[38;5;241m=\u001b[39mne_chunk(t_tags)\n\u001b[0;32m      3\u001b[0m \u001b[38;5;28mprint\u001b[39m(t_chunk)\n",
      "\u001b[1;31mNameError\u001b[0m: name 't_tags' is not defined"
     ]
    }
   ],
   "source": [
    "from nltk import ne_chunk\n",
    "t_chunk=ne_chunk(t_tags)\n",
    "print(t_chunk)"
   ]
  },
  {
   "cell_type": "code",
   "execution_count": null,
   "id": "d59d45d5-7e53-41e9-9a5f-85dd53a26d25",
   "metadata": {},
   "outputs": [],
   "source": []
  }
 ],
 "metadata": {
  "kernelspec": {
   "display_name": "Python 3 (ipykernel)",
   "language": "python",
   "name": "python3"
  },
  "language_info": {
   "codemirror_mode": {
    "name": "ipython",
    "version": 3
   },
   "file_extension": ".py",
   "mimetype": "text/x-python",
   "name": "python",
   "nbconvert_exporter": "python",
   "pygments_lexer": "ipython3",
   "version": "3.12.4"
  }
 },
 "nbformat": 4,
 "nbformat_minor": 5
}
