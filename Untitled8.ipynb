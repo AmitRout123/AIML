{
 "cells": [
  {
   "cell_type": "code",
   "execution_count": null,
   "id": "ee064da1-a16a-42fc-9154-6a3d19bf7f39",
   "metadata": {},
   "outputs": [],
   "source": [
    "#PIL Python imagi\n",
    "from PIL import Image "
   ]
  },
  {
   "cell_type": "markdown",
   "id": "309a7f5d-0913-40fb-831f-aea35fe785dc",
   "metadata": {},
   "source": []
  },
  {
   "cell_type": "code",
   "execution_count": null,
   "id": "4b0e1642-73ab-4576-b8cd-79592c08556a",
   "metadata": {
    "scrolled": true
   },
   "outputs": [],
   "source": [
    "#TO OPEN A IMAGE\n",
    "a=Image.open(r\"C:\\Users\\dell\\Pictures\\Camera Roll\\100MEDIA\\PICT0418.JPG\")\n",
    "a"
   ]
  },
  {
   "cell_type": "code",
   "execution_count": 1,
   "id": "05803c24-acf6-4ded-b70a-227115583508",
   "metadata": {},
   "outputs": [
    {
     "ename": "NameError",
     "evalue": "name 'a' is not defined",
     "output_type": "error",
     "traceback": [
      "\u001b[1;31m---------------------------------------------------------------------------\u001b[0m",
      "\u001b[1;31mNameError\u001b[0m                                 Traceback (most recent call last)",
      "Cell \u001b[1;32mIn[1], line 1\u001b[0m\n\u001b[1;32m----> 1\u001b[0m \u001b[38;5;28mtype\u001b[39m(a)\n",
      "\u001b[1;31mNameError\u001b[0m: name 'a' is not defined"
     ]
    }
   ],
   "source": [
    "type(a)"
   ]
  },
  {
   "cell_type": "code",
   "execution_count": null,
   "id": "50f58571-cd1d-404c-b668-1ad4d48e28f5",
   "metadata": {},
   "outputs": [],
   "source": [
    "a.mode"
   ]
  },
  {
   "cell_type": "code",
   "execution_count": null,
   "id": "74d5e30d-ed83-4970-9fcf-54cd63500d3b",
   "metadata": {},
   "outputs": [],
   "source": [
    "a.rotate(90)"
   ]
  },
  {
   "cell_type": "code",
   "execution_count": null,
   "id": "41a5cad3-bf75-4ffd-8e4d-d5f0d854bb9c",
   "metadata": {},
   "outputs": [],
   "source": [
    "a.rotate(45)"
   ]
  },
  {
   "cell_type": "code",
   "execution_count": null,
   "id": "0b2d79ca-6235-41a9-89d8-6d66ffc8972d",
   "metadata": {},
   "outputs": [],
   "source": [
    "a.transpose(Image.FLIP_LEFT_RIGHT)"
   ]
  },
  {
   "cell_type": "code",
   "execution_count": null,
   "id": "679a76e5-413a-4aa6-94ad-a41a9237ff9c",
   "metadata": {},
   "outputs": [],
   "source": [
    "a.transpose(Image.FLIP_TOP_BOTTOM)"
   ]
  },
  {
   "cell_type": "code",
   "execution_count": null,
   "id": "42751c1a-2fd6-4e2b-a5b2-f6ab9c948619",
   "metadata": {},
   "outputs": [],
   "source": [
    "#Image Filters\n",
    "from PIL import ImageFilter"
   ]
  },
  {
   "cell_type": "code",
   "execution_count": null,
   "id": "0d99595b-28a9-4759-8fdf-424b53e623b8",
   "metadata": {},
   "outputs": [],
   "source": [
    "img=a.filter(ImageFilter.BLUR)\n",
    "img"
   ]
  },
  {
   "cell_type": "code",
   "execution_count": null,
   "id": "61fd8219-b6d6-47f7-8ba1-6231385d18ce",
   "metadata": {},
   "outputs": [],
   "source": [
    "img = a.filter(ImageFilter.CONTOUR)\n",
    "img"
   ]
  },
  {
   "cell_type": "code",
   "execution_count": null,
   "id": "d296a306-bedc-46b6-a016-35d4e3da12f0",
   "metadata": {},
   "outputs": [],
   "source": [
    "img = a.filter(ImageFilter.EMBOSS)\n",
    "img"
   ]
  },
  {
   "cell_type": "code",
   "execution_count": null,
   "id": "ae63c9d7-90c9-4236-805a-d3d506e4ab2a",
   "metadata": {},
   "outputs": [],
   "source": [
    "img = a.filter(ImageFilter.FIND_EDGES)\n",
    "img"
   ]
  },
  {
   "cell_type": "code",
   "execution_count": 10,
   "id": "65acc664-e739-43a8-83c2-4b670b3e5df6",
   "metadata": {},
   "outputs": [],
   "source": [
    "#unsupervised learning\n",
    "\n",
    "import numpy as np\n",
    "import pandas as pd\n",
    "import matplotlib.pyplot as plt\n",
    "import seaborn as sns\n"
   ]
  },
  {
   "cell_type": "code",
   "execution_count": 14,
   "id": "28e7d26f-4b21-4f27-abca-5771de36a602",
   "metadata": {},
   "outputs": [
    {
     "data": {
      "text/html": [
       "<div>\n",
       "<style scoped>\n",
       "    .dataframe tbody tr th:only-of-type {\n",
       "        vertical-align: middle;\n",
       "    }\n",
       "\n",
       "    .dataframe tbody tr th {\n",
       "        vertical-align: top;\n",
       "    }\n",
       "\n",
       "    .dataframe thead th {\n",
       "        text-align: right;\n",
       "    }\n",
       "</style>\n",
       "<table border=\"1\" class=\"dataframe\">\n",
       "  <thead>\n",
       "    <tr style=\"text-align: right;\">\n",
       "      <th></th>\n",
       "      <th>0</th>\n",
       "    </tr>\n",
       "  </thead>\n",
       "  <tbody>\n",
       "    <tr>\n",
       "      <th>0</th>\n",
       "      <td>5.099999999999999645e+00 3.500000000000000000e...</td>\n",
       "    </tr>\n",
       "    <tr>\n",
       "      <th>1</th>\n",
       "      <td>4.900000000000000355e+00 3.000000000000000000e...</td>\n",
       "    </tr>\n",
       "    <tr>\n",
       "      <th>2</th>\n",
       "      <td>4.700000000000000178e+00 3.200000000000000178e...</td>\n",
       "    </tr>\n",
       "    <tr>\n",
       "      <th>3</th>\n",
       "      <td>4.599999999999999645e+00 3.100000000000000089e...</td>\n",
       "    </tr>\n",
       "    <tr>\n",
       "      <th>4</th>\n",
       "      <td>5.000000000000000000e+00 3.600000000000000089e...</td>\n",
       "    </tr>\n",
       "    <tr>\n",
       "      <th>...</th>\n",
       "      <td>...</td>\n",
       "    </tr>\n",
       "    <tr>\n",
       "      <th>145</th>\n",
       "      <td>6.700000000000000178e+00 3.000000000000000000e...</td>\n",
       "    </tr>\n",
       "    <tr>\n",
       "      <th>146</th>\n",
       "      <td>6.299999999999999822e+00 2.500000000000000000e...</td>\n",
       "    </tr>\n",
       "    <tr>\n",
       "      <th>147</th>\n",
       "      <td>6.500000000000000000e+00 3.000000000000000000e...</td>\n",
       "    </tr>\n",
       "    <tr>\n",
       "      <th>148</th>\n",
       "      <td>6.200000000000000178e+00 3.399999999999999911e...</td>\n",
       "    </tr>\n",
       "    <tr>\n",
       "      <th>149</th>\n",
       "      <td>5.900000000000000355e+00 3.000000000000000000e...</td>\n",
       "    </tr>\n",
       "  </tbody>\n",
       "</table>\n",
       "<p>150 rows × 1 columns</p>\n",
       "</div>"
      ],
      "text/plain": [
       "                                                     0\n",
       "0    5.099999999999999645e+00 3.500000000000000000e...\n",
       "1    4.900000000000000355e+00 3.000000000000000000e...\n",
       "2    4.700000000000000178e+00 3.200000000000000178e...\n",
       "3    4.599999999999999645e+00 3.100000000000000089e...\n",
       "4    5.000000000000000000e+00 3.600000000000000089e...\n",
       "..                                                 ...\n",
       "145  6.700000000000000178e+00 3.000000000000000000e...\n",
       "146  6.299999999999999822e+00 2.500000000000000000e...\n",
       "147  6.500000000000000000e+00 3.000000000000000000e...\n",
       "148  6.200000000000000178e+00 3.399999999999999911e...\n",
       "149  5.900000000000000355e+00 3.000000000000000000e...\n",
       "\n",
       "[150 rows x 1 columns]"
      ]
     },
     "execution_count": 14,
     "metadata": {},
     "output_type": "execute_result"
    }
   ],
   "source": [
    "iris = pd.read_csv(r\"C:\\Users\\dell\\anaconda3\\pkgs\\scipy-1.13.1-py312hbb039d4_0\\Lib\\site-packages\\scipy\\spatial\\tests\\data\\iris.txt\",header=None)\n",
    "iris"
   ]
  },
  {
   "cell_type": "code",
   "execution_count": 15,
   "id": "d07d7c5a-f958-4b13-bf62-6c7745f5c6e8",
   "metadata": {},
   "outputs": [
    {
     "ename": "ValueError",
     "evalue": "Length mismatch: Expected axis has 1 elements, new values have 5 elements",
     "output_type": "error",
     "traceback": [
      "\u001b[1;31m---------------------------------------------------------------------------\u001b[0m",
      "\u001b[1;31mValueError\u001b[0m                                Traceback (most recent call last)",
      "Cell \u001b[1;32mIn[15], line 1\u001b[0m\n\u001b[1;32m----> 1\u001b[0m iris\u001b[38;5;241m.\u001b[39mcolumns\u001b[38;5;241m=\u001b[39m[\u001b[38;5;124m'\u001b[39m\u001b[38;5;124mSL\u001b[39m\u001b[38;5;124m'\u001b[39m,\u001b[38;5;124m'\u001b[39m\u001b[38;5;124mSW\u001b[39m\u001b[38;5;124m'\u001b[39m,\u001b[38;5;124m'\u001b[39m\u001b[38;5;124mPL\u001b[39m\u001b[38;5;124m'\u001b[39m,\u001b[38;5;124m'\u001b[39m\u001b[38;5;124mPW\u001b[39m\u001b[38;5;124m'\u001b[39m,\u001b[38;5;124m'\u001b[39m\u001b[38;5;124mFlower\u001b[39m\u001b[38;5;124m'\u001b[39m]\n\u001b[0;32m      2\u001b[0m iris\u001b[38;5;241m.\u001b[39mhead()\n",
      "File \u001b[1;32m~\\anaconda3\\Lib\\site-packages\\pandas\\core\\generic.py:6313\u001b[0m, in \u001b[0;36mNDFrame.__setattr__\u001b[1;34m(self, name, value)\u001b[0m\n\u001b[0;32m   6311\u001b[0m \u001b[38;5;28;01mtry\u001b[39;00m:\n\u001b[0;32m   6312\u001b[0m     \u001b[38;5;28mobject\u001b[39m\u001b[38;5;241m.\u001b[39m\u001b[38;5;21m__getattribute__\u001b[39m(\u001b[38;5;28mself\u001b[39m, name)\n\u001b[1;32m-> 6313\u001b[0m     \u001b[38;5;28;01mreturn\u001b[39;00m \u001b[38;5;28mobject\u001b[39m\u001b[38;5;241m.\u001b[39m\u001b[38;5;21m__setattr__\u001b[39m(\u001b[38;5;28mself\u001b[39m, name, value)\n\u001b[0;32m   6314\u001b[0m \u001b[38;5;28;01mexcept\u001b[39;00m \u001b[38;5;167;01mAttributeError\u001b[39;00m:\n\u001b[0;32m   6315\u001b[0m     \u001b[38;5;28;01mpass\u001b[39;00m\n",
      "File \u001b[1;32mproperties.pyx:69\u001b[0m, in \u001b[0;36mpandas._libs.properties.AxisProperty.__set__\u001b[1;34m()\u001b[0m\n",
      "File \u001b[1;32m~\\anaconda3\\Lib\\site-packages\\pandas\\core\\generic.py:814\u001b[0m, in \u001b[0;36mNDFrame._set_axis\u001b[1;34m(self, axis, labels)\u001b[0m\n\u001b[0;32m    809\u001b[0m \u001b[38;5;250m\u001b[39m\u001b[38;5;124;03m\"\"\"\u001b[39;00m\n\u001b[0;32m    810\u001b[0m \u001b[38;5;124;03mThis is called from the cython code when we set the `index` attribute\u001b[39;00m\n\u001b[0;32m    811\u001b[0m \u001b[38;5;124;03mdirectly, e.g. `series.index = [1, 2, 3]`.\u001b[39;00m\n\u001b[0;32m    812\u001b[0m \u001b[38;5;124;03m\"\"\"\u001b[39;00m\n\u001b[0;32m    813\u001b[0m labels \u001b[38;5;241m=\u001b[39m ensure_index(labels)\n\u001b[1;32m--> 814\u001b[0m \u001b[38;5;28mself\u001b[39m\u001b[38;5;241m.\u001b[39m_mgr\u001b[38;5;241m.\u001b[39mset_axis(axis, labels)\n\u001b[0;32m    815\u001b[0m \u001b[38;5;28mself\u001b[39m\u001b[38;5;241m.\u001b[39m_clear_item_cache()\n",
      "File \u001b[1;32m~\\anaconda3\\Lib\\site-packages\\pandas\\core\\internals\\managers.py:238\u001b[0m, in \u001b[0;36mBaseBlockManager.set_axis\u001b[1;34m(self, axis, new_labels)\u001b[0m\n\u001b[0;32m    236\u001b[0m \u001b[38;5;28;01mdef\u001b[39;00m \u001b[38;5;21mset_axis\u001b[39m(\u001b[38;5;28mself\u001b[39m, axis: AxisInt, new_labels: Index) \u001b[38;5;241m-\u001b[39m\u001b[38;5;241m>\u001b[39m \u001b[38;5;28;01mNone\u001b[39;00m:\n\u001b[0;32m    237\u001b[0m     \u001b[38;5;66;03m# Caller is responsible for ensuring we have an Index object.\u001b[39;00m\n\u001b[1;32m--> 238\u001b[0m     \u001b[38;5;28mself\u001b[39m\u001b[38;5;241m.\u001b[39m_validate_set_axis(axis, new_labels)\n\u001b[0;32m    239\u001b[0m     \u001b[38;5;28mself\u001b[39m\u001b[38;5;241m.\u001b[39maxes[axis] \u001b[38;5;241m=\u001b[39m new_labels\n",
      "File \u001b[1;32m~\\anaconda3\\Lib\\site-packages\\pandas\\core\\internals\\base.py:98\u001b[0m, in \u001b[0;36mDataManager._validate_set_axis\u001b[1;34m(self, axis, new_labels)\u001b[0m\n\u001b[0;32m     95\u001b[0m     \u001b[38;5;28;01mpass\u001b[39;00m\n\u001b[0;32m     97\u001b[0m \u001b[38;5;28;01melif\u001b[39;00m new_len \u001b[38;5;241m!=\u001b[39m old_len:\n\u001b[1;32m---> 98\u001b[0m     \u001b[38;5;28;01mraise\u001b[39;00m \u001b[38;5;167;01mValueError\u001b[39;00m(\n\u001b[0;32m     99\u001b[0m         \u001b[38;5;124mf\u001b[39m\u001b[38;5;124m\"\u001b[39m\u001b[38;5;124mLength mismatch: Expected axis has \u001b[39m\u001b[38;5;132;01m{\u001b[39;00mold_len\u001b[38;5;132;01m}\u001b[39;00m\u001b[38;5;124m elements, new \u001b[39m\u001b[38;5;124m\"\u001b[39m\n\u001b[0;32m    100\u001b[0m         \u001b[38;5;124mf\u001b[39m\u001b[38;5;124m\"\u001b[39m\u001b[38;5;124mvalues have \u001b[39m\u001b[38;5;132;01m{\u001b[39;00mnew_len\u001b[38;5;132;01m}\u001b[39;00m\u001b[38;5;124m elements\u001b[39m\u001b[38;5;124m\"\u001b[39m\n\u001b[0;32m    101\u001b[0m     )\n",
      "\u001b[1;31mValueError\u001b[0m: Length mismatch: Expected axis has 1 elements, new values have 5 elements"
     ]
    }
   ],
   "source": [
    "iris.columns=['SL','SW','PL','PW','Flower']\n",
    "iris.head()"
   ]
  },
  {
   "cell_type": "code",
   "execution_count": null,
   "id": "4fd232c6-fb9e-4f00-a99d-5e26e06ff831",
   "metadata": {},
   "outputs": [],
   "source": [
    "from sklearn.feature_extraction.text import CountVectorizer\n",
    "cv = CountVectorizer()\n",
    "\n",
    "txt={'I love Singing and I love Painting'}\n",
    "x = cv.fit_transform(txt)"
   ]
  },
  {
   "cell_type": "code",
   "execution_count": null,
   "id": "9a437f89-56fa-4681-a06a-c5e5c7fa6a03",
   "metadata": {},
   "outputs": [],
   "source": [
    "print(x)"
   ]
  },
  {
   "cell_type": "code",
   "execution_count": null,
   "id": "68a8123f-95d5-4470-9839-480b9f1a055e",
   "metadata": {},
   "outputs": [],
   "source": [
    "print(cv.vocabulary_)"
   ]
  },
  {
   "cell_type": "code",
   "execution_count": null,
   "id": "8759f044-4091-4b6f-8bcd-fe9c551f8d7b",
   "metadata": {},
   "outputs": [],
   "source": [
    "print(x.toarray())"
   ]
  },
  {
   "cell_type": "code",
   "execution_count": null,
   "id": "9173df48-a2c9-4d94-9cd7-5f473ef9cec7",
   "metadata": {},
   "outputs": [],
   "source": [
    "txt = ['I Love Singing and I Love Painting']\n",
    "y = cv.fit_transform(txt)"
   ]
  },
  {
   "cell_type": "code",
   "execution_count": null,
   "id": "c660ae18-a324-45b0-ad7c-d82f5f588d6e",
   "metadata": {},
   "outputs": [],
   "source": [
    "y"
   ]
  },
  {
   "cell_type": "code",
   "execution_count": null,
   "id": "47fdbe3b-6c67-4694-929c-c251dcf4c1eb",
   "metadata": {},
   "outputs": [],
   "source": [
    "print(y)"
   ]
  },
  {
   "cell_type": "code",
   "execution_count": null,
   "id": "da21a982-e37f-49e6-9c04-47f60faafb97",
   "metadata": {},
   "outputs": [],
   "source": [
    "#TF-IDF\n",
    "from sklearn.feature_extraction.text import TfidfVectorizer\n",
    "tfidf = TfidfVectorizer()\n",
    "\n",
    "txt={'I love Singing and I love Painting'}\n",
    "z = tfidf.fit_transform(txt)"
   ]
  },
  {
   "cell_type": "code",
   "execution_count": null,
   "id": "d43bd438-3d59-41f9-b9e9-469a48a618f3",
   "metadata": {},
   "outputs": [],
   "source": [
    "z"
   ]
  },
  {
   "cell_type": "code",
   "execution_count": null,
   "id": "e42d010f-7c47-4d4a-a7af-89fdaac587ad",
   "metadata": {},
   "outputs": [],
   "source": [
    "print(z)"
   ]
  },
  {
   "cell_type": "code",
   "execution_count": null,
   "id": "52b6dec2-1b4e-4473-bf28-d172b5be793f",
   "metadata": {},
   "outputs": [],
   "source": [
    "print(z.toarray)"
   ]
  },
  {
   "cell_type": "code",
   "execution_count": null,
   "id": "b07ff032-50a9-4b6b-aeca-a3f39cdcc2c2",
   "metadata": {},
   "outputs": [],
   "source": [
    "print(tfidf.vocabulary)"
   ]
  },
  {
   "cell_type": "code",
   "execution_count": null,
   "id": "f084d41f-a879-46ea-a92c-7b4ac5e4ba2a",
   "metadata": {},
   "outputs": [],
   "source": [
    "import numpy as np\n",
    "import pandas as pd\n",
    "import matplotlib.pyplot as plt\n",
    "\n",
    "from sklearn.feature_extraction.text import TfidfVectorizer\n",
    "from sklearn.model_selection import train_test_split\n",
    "from sklearn.naive_bayes import MultinomialNB\n",
    "\n",
    "from wordcloud import WordCloud"
   ]
  },
  {
   "cell_type": "code",
   "execution_count": null,
   "id": "b32bdfb2-ec8f-4ca4-b7a6-d2e4dc59f06e",
   "metadata": {},
   "outputs": [],
   "source": [
    "#iris"
   ]
  },
  {
   "cell_type": "code",
   "execution_count": null,
   "id": "55cf10b7-183b-4eab-a267-bcf7908babe5",
   "metadata": {},
   "outputs": [],
   "source": [
    "from sklearn.datasets import load_iris"
   ]
  },
  {
   "cell_type": "code",
   "execution_count": null,
   "id": "890b8447-c850-4e5a-b7be-95e6e1deb8a8",
   "metadata": {},
   "outputs": [],
   "source": [
    "iris=load_iris()\n",
    "iris"
   ]
  },
  {
   "cell_type": "code",
   "execution_count": null,
   "id": "052fd296-d6dc-4108-b461-a4228a2f6088",
   "metadata": {},
   "outputs": [],
   "source": [
    "iris.target_names"
   ]
  },
  {
   "cell_type": "code",
   "execution_count": null,
   "id": "a8c3b298-8fa8-4942-b1f1-0bc64786be49",
   "metadata": {},
   "outputs": [],
   "source": [
    "#FETCH_20NEWSGROUPS\n",
    "\n",
    "import numpy as np\n",
    "import pandas as pd\n",
    "from sklearn.datasets import fetch_20newsgroups"
   ]
  },
  {
   "cell_type": "code",
   "execution_count": null,
   "id": "be8eef83-c94e-413f-b643-09c4bcf2a3c2",
   "metadata": {},
   "outputs": [],
   "source": [
    "news=fetch_20newsgroups()\n",
    "news"
   ]
  },
  {
   "cell_type": "code",
   "execution_count": null,
   "id": "df21206c-ba85-42b2-9d2b-7b5e9bd460e3",
   "metadata": {},
   "outputs": [],
   "source": [
    "set(news.target)"
   ]
  },
  {
   "cell_type": "code",
   "execution_count": null,
   "id": "949c4b74-e5a1-4c53-9bf2-34336fdcbac2",
   "metadata": {},
   "outputs": [],
   "source": [
    "news.target_names"
   ]
  },
  {
   "cell_type": "code",
   "execution_count": null,
   "id": "d09f1b80-6d67-4465-9059-05fe13d19334",
   "metadata": {},
   "outputs": [],
   "source": [
    "headings=news.target_names"
   ]
  },
  {
   "cell_type": "code",
   "execution_count": null,
   "id": "b904f1a3-2b6d-4196-a9d6-9ccb38e241d9",
   "metadata": {},
   "outputs": [],
   "source": [
    "train = fetch_20newsgroups(subset='train',categories=headings)\n",
    "test = fetch_20newsgroups(subset='test',categories=headings)"
   ]
  },
  {
   "cell_type": "code",
   "execution_count": null,
   "id": "1a8bfd97-6a62-4e95-bf08-aab427dc5422",
   "metadata": {},
   "outputs": [],
   "source": [
    "print(train.data[10])"
   ]
  },
  {
   "cell_type": "code",
   "execution_count": null,
   "id": "6230e661-bd53-4662-835a-270dead68bee",
   "metadata": {},
   "outputs": [],
   "source": [
    "print(test.data[6])"
   ]
  },
  {
   "cell_type": "code",
   "execution_count": null,
   "id": "6e701175-3161-4446-bf4d-f9c558ef2797",
   "metadata": {},
   "outputs": [],
   "source": [
    "print(len(test.data))"
   ]
  },
  {
   "cell_type": "code",
   "execution_count": null,
   "id": "1e25cc87-be30-4d2c-b687-c32cde48fc57",
   "metadata": {},
   "outputs": [],
   "source": [
    "a = fetch_20newsgroups(subset='all')\n",
    "print(len(a.data))"
   ]
  },
  {
   "cell_type": "code",
   "execution_count": null,
   "id": "3317329e-a433-4f9c-a05a-b5457c006ebd",
   "metadata": {},
   "outputs": [],
   "source": [
    "from sklearn.feature_extraction.text import TfidfVectorizer,TfidfTransformer\n",
    "from sklearn.pipeline import Pipeline\n",
    "from sklearn.naive_bayes import MultinomialNB"
   ]
  },
  {
   "cell_type": "code",
   "execution_count": null,
   "id": "36f9c1b7-48cc-4c6e-b868-fca045b5ca22",
   "metadata": {},
   "outputs": [],
   "source": [
    "model = Pipeline([('vector',TfidfVectorizer()),\n",
    "                 ('tfidf',TfidfTransformer()),\n",
    "                 ('algo',MultinomialNB())])"
   ]
  },
  {
   "cell_type": "code",
   "execution_count": null,
   "id": "9c5a7804-7d37-4cf1-9037-655f78a0e172",
   "metadata": {},
   "outputs": [],
   "source": [
    "model.fit(train.data,train.target)"
   ]
  },
  {
   "cell_type": "code",
   "execution_count": null,
   "id": "cbe389b6-abce-4a6a-b6ea-77e6a7028438",
   "metadata": {},
   "outputs": [],
   "source": [
    "def predict_category(s,train=train,model=model):\n",
    "    pred = model.predict([s])\n",
    "    return train.target_names[pred[0]]"
   ]
  },
  {
   "cell_type": "code",
   "execution_count": null,
   "id": "89d38998-3250-43d3-a802-6f3e08c2aade",
   "metadata": {},
   "outputs": [],
   "source": [
    "predict_category('Diwali is an Indian Festival')"
   ]
  },
  {
   "cell_type": "code",
   "execution_count": null,
   "id": "b86ab1d7-14ba-4228-a013-70cca51810ea",
   "metadata": {},
   "outputs": [],
   "source": [
    "predict_category('We have taken that person to medical')"
   ]
  },
  {
   "cell_type": "code",
   "execution_count": null,
   "id": "d2a6d3d1-95dc-4516-8acd-f98aa806c0ab",
   "metadata": {},
   "outputs": [],
   "source": [
    "#COMPUTER VISION"
   ]
  },
  {
   "cell_type": "code",
   "execution_count": null,
   "id": "dbaa5bf6-4fc3-4e8b-91ac-bd0ce7d360f6",
   "metadata": {},
   "outputs": [],
   "source": [
    "!pip install opencv-python"
   ]
  },
  {
   "cell_type": "code",
   "execution_count": null,
   "id": "60439feb-ac3e-4f94-926e-a5594ab4c8de",
   "metadata": {},
   "outputs": [],
   "source": [
    "import cv2\n",
    "import numpy as np\n",
    "import matplotlib.pyplot as plt"
   ]
  },
  {
   "cell_type": "code",
   "execution_count": null,
   "id": "de2baa94-695f-4097-9eb1-2e4fa1dfd08d",
   "metadata": {},
   "outputs": [],
   "source": [
    "img = cv2.imread(r\"C:\\Users\\dell\\Downloads\\pexels-pixabay-459203.jpg\")\n",
    "img"
   ]
  },
  {
   "cell_type": "code",
   "execution_count": null,
   "id": "04c0152f-0faf-40a7-a827-b3be4ae073bb",
   "metadata": {},
   "outputs": [],
   "source": [
    "img.shape"
   ]
  },
  {
   "cell_type": "code",
   "execution_count": null,
   "id": "ef0c2f1b-499d-4c42-a7d4-7c31309be6c4",
   "metadata": {},
   "outputs": [],
   "source": [
    "img.ndim"
   ]
  },
  {
   "cell_type": "code",
   "execution_count": null,
   "id": "667a16e2-310f-4177-b483-508e066f887e",
   "metadata": {},
   "outputs": [],
   "source": [
    "cv2.imshow('doremon',img)\n",
    "cv2.waitKey(0)\n",
    "cv2.destroyAllWindows()"
   ]
  },
  {
   "cell_type": "code",
   "execution_count": null,
   "id": "189bdadc-a2ba-4050-9710-60bcc49b4839",
   "metadata": {},
   "outputs": [],
   "source": [
    "plt.imshow(img)\n",
    "plt.show()"
   ]
  },
  {
   "cell_type": "code",
   "execution_count": null,
   "id": "97936160-3e54-4184-858b-af21d379897d",
   "metadata": {},
   "outputs": [],
   "source": [
    "#color Combination\n",
    "#black\n",
    "\n",
    "r=np.full((50,50),0)\n",
    "g=np.full((50,50),0)\n",
    "b=np.full((50,50),0)\n",
    "\n",
    "rgb=np.dstack((r,g,b))\n",
    "plt.imshow(rgb)\n",
    "plt.axis('off')\n",
    "plt.show()\n"
   ]
  },
  {
   "cell_type": "code",
   "execution_count": null,
   "id": "10536579-6fd5-4556-ab05-261b5d341c9f",
   "metadata": {},
   "outputs": [],
   "source": [
    "plt.imshow(img[::,::,::-1])\n",
    "plt.axis('off')\n",
    "plt.show()"
   ]
  },
  {
   "cell_type": "code",
   "execution_count": null,
   "id": "aeeab8c6-ea69-46f6-8add-98505bb4acf6",
   "metadata": {},
   "outputs": [],
   "source": [
    "r=np.full((50,50),255)\n",
    "g=np.full((50,50),0)\n",
    "b=np.full((50,50),0)\n",
    "\n",
    "rgb=np.dstack((r,g,b))\n",
    "plt.imshow(rgb)\n",
    "plt.axis('off')\n",
    "plt.show()"
   ]
  },
  {
   "cell_type": "code",
   "execution_count": null,
   "id": "8666230e-cf20-4cd1-a891-1df4ad1b74fb",
   "metadata": {},
   "outputs": [],
   "source": []
  },
  {
   "cell_type": "code",
   "execution_count": null,
   "id": "f6f445c9-a6ba-4967-8fca-7b6ab7972e85",
   "metadata": {},
   "outputs": [],
   "source": [
    "r=np.full((50,50),0)\n",
    "g=np.full((50,50),255)\n",
    "b=np.full((50,50),0)\n",
    "\n",
    "rgb=np.dstack((r,g,b))\n",
    "plt.imshow(rgb)\n",
    "plt.axis('off')\n",
    "plt.show()"
   ]
  },
  {
   "cell_type": "code",
   "execution_count": null,
   "id": "0b8b4501-f74b-40f4-a148-6fa10c3b1084",
   "metadata": {},
   "outputs": [],
   "source": []
  },
  {
   "cell_type": "code",
   "execution_count": null,
   "id": "b20d01eb-d011-40d3-91fb-4cf0735bb464",
   "metadata": {},
   "outputs": [],
   "source": [
    "r=np.full((50,50),0)\n",
    "g=np.full((50,50),0)\n",
    "b=np.full((50,50),255)\n",
    "\n",
    "rgb=np.dstack((r,g,b))\n",
    "plt.imshow(rgb)\n",
    "plt.axis('off')\n",
    "plt.show()"
   ]
  },
  {
   "cell_type": "code",
   "execution_count": null,
   "id": "29288271-9831-4af8-a257-51d5c6951cc7",
   "metadata": {},
   "outputs": [],
   "source": []
  },
  {
   "cell_type": "code",
   "execution_count": 52,
   "id": "9c525467-45fa-4e4d-9e3f-1da99ed444ac",
   "metadata": {},
   "outputs": [
    {
     "ename": "NameError",
     "evalue": "name 'cv2' is not defined",
     "output_type": "error",
     "traceback": [
      "\u001b[1;31m---------------------------------------------------------------------------\u001b[0m",
      "\u001b[1;31mNameError\u001b[0m                                 Traceback (most recent call last)",
      "Cell \u001b[1;32mIn[52], line 1\u001b[0m\n\u001b[1;32m----> 1\u001b[0m cap \u001b[38;5;241m=\u001b[39m cv2\u001b[38;5;241m.\u001b[39mVideoCapture(\u001b[38;5;241m0\u001b[39m)\n\u001b[0;32m      2\u001b[0m \u001b[38;5;28;01mif\u001b[39;00m cap\u001b[38;5;241m.\u001b[39misOpened():\n\u001b[0;32m      3\u001b[0m     ret,frame \u001b[38;5;241m=\u001b[39m cap\u001b[38;5;241m.\u001b[39mread()\n",
      "\u001b[1;31mNameError\u001b[0m: name 'cv2' is not defined"
     ]
    }
   ],
   "source": [
    "cap = cv2.VideoCapture(0)\n",
    "if cap.isOpened():\n",
    "    ret,frame = cap.read()\n",
    "    print(ret)\n",
    "    print(frame)\n",
    "else:\n",
    "    ret = False\n",
    "\n",
    "image = cv2.cvtColor(frame,cv2.COLOR_BGR2RGB)\n",
    "plt.imshow(image)\n",
    "plt.title(\"My Picture\")\n",
    "plt.axis()\n",
    "cap.release()"
   ]
  },
  {
   "cell_type": "code",
   "execution_count": null,
   "id": "1da2888e-4ed1-476c-9dab-24f22435e9d4",
   "metadata": {},
   "outputs": [],
   "source": []
  },
  {
   "cell_type": "code",
   "execution_count": null,
   "id": "3ab45ec7-bb6e-499b-b0d4-1d57eff19232",
   "metadata": {},
   "outputs": [],
   "source": []
  },
  {
   "cell_type": "code",
   "execution_count": null,
   "id": "aa837168-4bd0-40ef-b240-3a6ad0e4b607",
   "metadata": {},
   "outputs": [],
   "source": []
  },
  {
   "cell_type": "code",
   "execution_count": null,
   "id": "d1aaae6c-8c15-40b1-807a-5ee564fd12ab",
   "metadata": {},
   "outputs": [],
   "source": []
  },
  {
   "cell_type": "code",
   "execution_count": null,
   "id": "e8705594-c37a-426a-a1f4-dbd8ecded32f",
   "metadata": {},
   "outputs": [],
   "source": []
  },
  {
   "cell_type": "code",
   "execution_count": null,
   "id": "a091e859-94a5-4acf-a54b-2d6871574a7f",
   "metadata": {},
   "outputs": [],
   "source": []
  },
  {
   "cell_type": "code",
   "execution_count": null,
   "id": "d69838b7-1d0b-4a2a-9fd1-92e52f44d809",
   "metadata": {},
   "outputs": [],
   "source": []
  },
  {
   "cell_type": "code",
   "execution_count": null,
   "id": "226bf1e2-adad-4f73-a077-9c6308d569a9",
   "metadata": {},
   "outputs": [],
   "source": []
  },
  {
   "cell_type": "code",
   "execution_count": null,
   "id": "2777d350-5f22-40f4-99f9-cb831cba40cb",
   "metadata": {},
   "outputs": [],
   "source": []
  },
  {
   "cell_type": "code",
   "execution_count": null,
   "id": "d95bc9fa-6000-4539-8410-e33639d9c2a2",
   "metadata": {},
   "outputs": [],
   "source": []
  },
  {
   "cell_type": "code",
   "execution_count": null,
   "id": "d399322a-520a-405d-bdee-dc47706a286b",
   "metadata": {},
   "outputs": [],
   "source": []
  },
  {
   "cell_type": "code",
   "execution_count": null,
   "id": "d4efdf6c-ea94-44ab-9331-f77975aa36f6",
   "metadata": {},
   "outputs": [],
   "source": []
  },
  {
   "cell_type": "code",
   "execution_count": null,
   "id": "8b6251b1-5d09-454b-973a-095e79f34db8",
   "metadata": {},
   "outputs": [],
   "source": []
  },
  {
   "cell_type": "code",
   "execution_count": null,
   "id": "6c636b0b-448f-4e26-a276-a47a0b54b4fc",
   "metadata": {},
   "outputs": [],
   "source": []
  },
  {
   "cell_type": "code",
   "execution_count": null,
   "id": "5595f934-dd6a-41a7-8561-54c29192c57c",
   "metadata": {},
   "outputs": [],
   "source": []
  },
  {
   "cell_type": "code",
   "execution_count": null,
   "id": "fce0644a-ba52-47dc-8c9c-7d010593c3fb",
   "metadata": {},
   "outputs": [],
   "source": []
  },
  {
   "cell_type": "code",
   "execution_count": null,
   "id": "f1c02790-c212-4dc0-b813-a8c8ead297a8",
   "metadata": {},
   "outputs": [],
   "source": []
  },
  {
   "cell_type": "code",
   "execution_count": null,
   "id": "15187ecf-d92b-4030-9855-d13610209e93",
   "metadata": {},
   "outputs": [],
   "source": []
  },
  {
   "cell_type": "code",
   "execution_count": null,
   "id": "a272ab34-3279-4776-ad48-a57161a809e5",
   "metadata": {},
   "outputs": [],
   "source": []
  },
  {
   "cell_type": "code",
   "execution_count": null,
   "id": "0bbc1dbe-8c8d-45d6-8249-9e12bbef38ef",
   "metadata": {},
   "outputs": [],
   "source": []
  },
  {
   "cell_type": "code",
   "execution_count": null,
   "id": "a6f626ba-ac4c-4571-97b3-c181cf80272b",
   "metadata": {},
   "outputs": [],
   "source": []
  },
  {
   "cell_type": "code",
   "execution_count": null,
   "id": "b5daea6e-0189-4101-badc-486c60931a2a",
   "metadata": {},
   "outputs": [],
   "source": []
  },
  {
   "cell_type": "code",
   "execution_count": null,
   "id": "89996d5a-cbb7-47f4-a594-f4ce0f308d58",
   "metadata": {},
   "outputs": [],
   "source": []
  },
  {
   "cell_type": "code",
   "execution_count": null,
   "id": "21bbc88a-bbed-47f7-965d-18e225dc7b31",
   "metadata": {},
   "outputs": [],
   "source": []
  },
  {
   "cell_type": "code",
   "execution_count": null,
   "id": "5b57074b-1f84-419b-9e34-07b9a3bdef9f",
   "metadata": {},
   "outputs": [],
   "source": []
  },
  {
   "cell_type": "code",
   "execution_count": null,
   "id": "48780e72-ffc2-4177-aeeb-4fdcbc4e1415",
   "metadata": {},
   "outputs": [],
   "source": []
  },
  {
   "cell_type": "code",
   "execution_count": null,
   "id": "5ad9305c-21ad-43e3-a4b7-15ccb1efa8a1",
   "metadata": {},
   "outputs": [],
   "source": []
  },
  {
   "cell_type": "code",
   "execution_count": null,
   "id": "6057e571-972e-431f-b0da-72ecb0abb9a3",
   "metadata": {},
   "outputs": [],
   "source": []
  },
  {
   "cell_type": "code",
   "execution_count": null,
   "id": "d8920d27-75f1-4089-859f-03d4c6b4d63a",
   "metadata": {},
   "outputs": [],
   "source": []
  },
  {
   "cell_type": "code",
   "execution_count": null,
   "id": "bd25fad6-a3c5-444a-b72d-77d7e4dfaacb",
   "metadata": {},
   "outputs": [],
   "source": []
  },
  {
   "cell_type": "code",
   "execution_count": null,
   "id": "853996d5-cd6a-424c-921f-f171fb5d921c",
   "metadata": {},
   "outputs": [],
   "source": []
  },
  {
   "cell_type": "code",
   "execution_count": null,
   "id": "b4ce986c-d3d7-4502-90db-02e4f455ce92",
   "metadata": {},
   "outputs": [],
   "source": []
  }
 ],
 "metadata": {
  "kernelspec": {
   "display_name": "Python 3 (ipykernel)",
   "language": "python",
   "name": "python3"
  },
  "language_info": {
   "codemirror_mode": {
    "name": "ipython",
    "version": 3
   },
   "file_extension": ".py",
   "mimetype": "text/x-python",
   "name": "python",
   "nbconvert_exporter": "python",
   "pygments_lexer": "ipython3",
   "version": "3.12.4"
  }
 },
 "nbformat": 4,
 "nbformat_minor": 5
}
